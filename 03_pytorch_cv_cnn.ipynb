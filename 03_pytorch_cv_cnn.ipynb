{
  "nbformat": 4,
  "nbformat_minor": 0,
  "metadata": {
    "colab": {
      "provenance": [],
      "gpuType": "T4",
      "authorship_tag": "ABX9TyP0Seeo2s/lO0myudBtHLFA",
      "include_colab_link": true
    },
    "kernelspec": {
      "name": "python3",
      "display_name": "Python 3"
    },
    "language_info": {
      "name": "python"
    },
    "accelerator": "GPU",
    "widgets": {
      "application/vnd.jupyter.widget-state+json": {
        "b17216d8aca84eeab200c0aec3db6268": {
          "model_module": "@jupyter-widgets/controls",
          "model_name": "HBoxModel",
          "model_module_version": "1.5.0",
          "state": {
            "_dom_classes": [],
            "_model_module": "@jupyter-widgets/controls",
            "_model_module_version": "1.5.0",
            "_model_name": "HBoxModel",
            "_view_count": null,
            "_view_module": "@jupyter-widgets/controls",
            "_view_module_version": "1.5.0",
            "_view_name": "HBoxView",
            "box_style": "",
            "children": [
              "IPY_MODEL_c8a0cc8151ce458bbcca06c6c49f5828",
              "IPY_MODEL_4f72af0df6b545fcaad5b450c638005e",
              "IPY_MODEL_efb3fca9955d4d86a280b886796e2849"
            ],
            "layout": "IPY_MODEL_7ec3f6bb3a784cda81c9d6dae0626713"
          }
        },
        "c8a0cc8151ce458bbcca06c6c49f5828": {
          "model_module": "@jupyter-widgets/controls",
          "model_name": "HTMLModel",
          "model_module_version": "1.5.0",
          "state": {
            "_dom_classes": [],
            "_model_module": "@jupyter-widgets/controls",
            "_model_module_version": "1.5.0",
            "_model_name": "HTMLModel",
            "_view_count": null,
            "_view_module": "@jupyter-widgets/controls",
            "_view_module_version": "1.5.0",
            "_view_name": "HTMLView",
            "description": "",
            "description_tooltip": null,
            "layout": "IPY_MODEL_e21497d5451f43ecbc7e3f049d732059",
            "placeholder": "​",
            "style": "IPY_MODEL_e6e8fadea95943e6b7b0f2de349a604a",
            "value": "Making Predictions: 100%"
          }
        },
        "4f72af0df6b545fcaad5b450c638005e": {
          "model_module": "@jupyter-widgets/controls",
          "model_name": "FloatProgressModel",
          "model_module_version": "1.5.0",
          "state": {
            "_dom_classes": [],
            "_model_module": "@jupyter-widgets/controls",
            "_model_module_version": "1.5.0",
            "_model_name": "FloatProgressModel",
            "_view_count": null,
            "_view_module": "@jupyter-widgets/controls",
            "_view_module_version": "1.5.0",
            "_view_name": "ProgressView",
            "bar_style": "success",
            "description": "",
            "description_tooltip": null,
            "layout": "IPY_MODEL_dc6ff74b2d28430c9d766ec447112eb6",
            "max": 313,
            "min": 0,
            "orientation": "horizontal",
            "style": "IPY_MODEL_c4812e7df3474713b2dfc3b20fd0ba21",
            "value": 313
          }
        },
        "efb3fca9955d4d86a280b886796e2849": {
          "model_module": "@jupyter-widgets/controls",
          "model_name": "HTMLModel",
          "model_module_version": "1.5.0",
          "state": {
            "_dom_classes": [],
            "_model_module": "@jupyter-widgets/controls",
            "_model_module_version": "1.5.0",
            "_model_name": "HTMLModel",
            "_view_count": null,
            "_view_module": "@jupyter-widgets/controls",
            "_view_module_version": "1.5.0",
            "_view_name": "HTMLView",
            "description": "",
            "description_tooltip": null,
            "layout": "IPY_MODEL_cbc55b91c50c411aa64510f726a60727",
            "placeholder": "​",
            "style": "IPY_MODEL_62d5bd029c0a4e9a8993e2120d4ea97f",
            "value": " 313/313 [00:02&lt;00:00, 191.17it/s]"
          }
        },
        "7ec3f6bb3a784cda81c9d6dae0626713": {
          "model_module": "@jupyter-widgets/base",
          "model_name": "LayoutModel",
          "model_module_version": "1.2.0",
          "state": {
            "_model_module": "@jupyter-widgets/base",
            "_model_module_version": "1.2.0",
            "_model_name": "LayoutModel",
            "_view_count": null,
            "_view_module": "@jupyter-widgets/base",
            "_view_module_version": "1.2.0",
            "_view_name": "LayoutView",
            "align_content": null,
            "align_items": null,
            "align_self": null,
            "border": null,
            "bottom": null,
            "display": null,
            "flex": null,
            "flex_flow": null,
            "grid_area": null,
            "grid_auto_columns": null,
            "grid_auto_flow": null,
            "grid_auto_rows": null,
            "grid_column": null,
            "grid_gap": null,
            "grid_row": null,
            "grid_template_areas": null,
            "grid_template_columns": null,
            "grid_template_rows": null,
            "height": null,
            "justify_content": null,
            "justify_items": null,
            "left": null,
            "margin": null,
            "max_height": null,
            "max_width": null,
            "min_height": null,
            "min_width": null,
            "object_fit": null,
            "object_position": null,
            "order": null,
            "overflow": null,
            "overflow_x": null,
            "overflow_y": null,
            "padding": null,
            "right": null,
            "top": null,
            "visibility": null,
            "width": null
          }
        },
        "e21497d5451f43ecbc7e3f049d732059": {
          "model_module": "@jupyter-widgets/base",
          "model_name": "LayoutModel",
          "model_module_version": "1.2.0",
          "state": {
            "_model_module": "@jupyter-widgets/base",
            "_model_module_version": "1.2.0",
            "_model_name": "LayoutModel",
            "_view_count": null,
            "_view_module": "@jupyter-widgets/base",
            "_view_module_version": "1.2.0",
            "_view_name": "LayoutView",
            "align_content": null,
            "align_items": null,
            "align_self": null,
            "border": null,
            "bottom": null,
            "display": null,
            "flex": null,
            "flex_flow": null,
            "grid_area": null,
            "grid_auto_columns": null,
            "grid_auto_flow": null,
            "grid_auto_rows": null,
            "grid_column": null,
            "grid_gap": null,
            "grid_row": null,
            "grid_template_areas": null,
            "grid_template_columns": null,
            "grid_template_rows": null,
            "height": null,
            "justify_content": null,
            "justify_items": null,
            "left": null,
            "margin": null,
            "max_height": null,
            "max_width": null,
            "min_height": null,
            "min_width": null,
            "object_fit": null,
            "object_position": null,
            "order": null,
            "overflow": null,
            "overflow_x": null,
            "overflow_y": null,
            "padding": null,
            "right": null,
            "top": null,
            "visibility": null,
            "width": null
          }
        },
        "e6e8fadea95943e6b7b0f2de349a604a": {
          "model_module": "@jupyter-widgets/controls",
          "model_name": "DescriptionStyleModel",
          "model_module_version": "1.5.0",
          "state": {
            "_model_module": "@jupyter-widgets/controls",
            "_model_module_version": "1.5.0",
            "_model_name": "DescriptionStyleModel",
            "_view_count": null,
            "_view_module": "@jupyter-widgets/base",
            "_view_module_version": "1.2.0",
            "_view_name": "StyleView",
            "description_width": ""
          }
        },
        "dc6ff74b2d28430c9d766ec447112eb6": {
          "model_module": "@jupyter-widgets/base",
          "model_name": "LayoutModel",
          "model_module_version": "1.2.0",
          "state": {
            "_model_module": "@jupyter-widgets/base",
            "_model_module_version": "1.2.0",
            "_model_name": "LayoutModel",
            "_view_count": null,
            "_view_module": "@jupyter-widgets/base",
            "_view_module_version": "1.2.0",
            "_view_name": "LayoutView",
            "align_content": null,
            "align_items": null,
            "align_self": null,
            "border": null,
            "bottom": null,
            "display": null,
            "flex": null,
            "flex_flow": null,
            "grid_area": null,
            "grid_auto_columns": null,
            "grid_auto_flow": null,
            "grid_auto_rows": null,
            "grid_column": null,
            "grid_gap": null,
            "grid_row": null,
            "grid_template_areas": null,
            "grid_template_columns": null,
            "grid_template_rows": null,
            "height": null,
            "justify_content": null,
            "justify_items": null,
            "left": null,
            "margin": null,
            "max_height": null,
            "max_width": null,
            "min_height": null,
            "min_width": null,
            "object_fit": null,
            "object_position": null,
            "order": null,
            "overflow": null,
            "overflow_x": null,
            "overflow_y": null,
            "padding": null,
            "right": null,
            "top": null,
            "visibility": null,
            "width": null
          }
        },
        "c4812e7df3474713b2dfc3b20fd0ba21": {
          "model_module": "@jupyter-widgets/controls",
          "model_name": "ProgressStyleModel",
          "model_module_version": "1.5.0",
          "state": {
            "_model_module": "@jupyter-widgets/controls",
            "_model_module_version": "1.5.0",
            "_model_name": "ProgressStyleModel",
            "_view_count": null,
            "_view_module": "@jupyter-widgets/base",
            "_view_module_version": "1.2.0",
            "_view_name": "StyleView",
            "bar_color": null,
            "description_width": ""
          }
        },
        "cbc55b91c50c411aa64510f726a60727": {
          "model_module": "@jupyter-widgets/base",
          "model_name": "LayoutModel",
          "model_module_version": "1.2.0",
          "state": {
            "_model_module": "@jupyter-widgets/base",
            "_model_module_version": "1.2.0",
            "_model_name": "LayoutModel",
            "_view_count": null,
            "_view_module": "@jupyter-widgets/base",
            "_view_module_version": "1.2.0",
            "_view_name": "LayoutView",
            "align_content": null,
            "align_items": null,
            "align_self": null,
            "border": null,
            "bottom": null,
            "display": null,
            "flex": null,
            "flex_flow": null,
            "grid_area": null,
            "grid_auto_columns": null,
            "grid_auto_flow": null,
            "grid_auto_rows": null,
            "grid_column": null,
            "grid_gap": null,
            "grid_row": null,
            "grid_template_areas": null,
            "grid_template_columns": null,
            "grid_template_rows": null,
            "height": null,
            "justify_content": null,
            "justify_items": null,
            "left": null,
            "margin": null,
            "max_height": null,
            "max_width": null,
            "min_height": null,
            "min_width": null,
            "object_fit": null,
            "object_position": null,
            "order": null,
            "overflow": null,
            "overflow_x": null,
            "overflow_y": null,
            "padding": null,
            "right": null,
            "top": null,
            "visibility": null,
            "width": null
          }
        },
        "62d5bd029c0a4e9a8993e2120d4ea97f": {
          "model_module": "@jupyter-widgets/controls",
          "model_name": "DescriptionStyleModel",
          "model_module_version": "1.5.0",
          "state": {
            "_model_module": "@jupyter-widgets/controls",
            "_model_module_version": "1.5.0",
            "_model_name": "DescriptionStyleModel",
            "_view_count": null,
            "_view_module": "@jupyter-widgets/base",
            "_view_module_version": "1.2.0",
            "_view_name": "StyleView",
            "description_width": ""
          }
        }
      }
    }
  },
  "cells": [
    {
      "cell_type": "markdown",
      "metadata": {
        "id": "view-in-github",
        "colab_type": "text"
      },
      "source": [
        "<a href=\"https://colab.research.google.com/github/aashu-0/learn-pytorch/blob/main/03_pytorch_cv_cnn.ipynb\" target=\"_parent\"><img src=\"https://colab.research.google.com/assets/colab-badge.svg\" alt=\"Open In Colab\"/></a>"
      ]
    },
    {
      "cell_type": "markdown",
      "source": [
        "**Model 2-  Convolutional Neural Networks**\n",
        "\n",
        "- we are improve our previous model and this time using a CNN model\n",
        "- CNN model ==> TinyVGG from cnn explainer\n",
        "\n",
        "**Model Architecture**\n",
        "* `input -> [cnn layer -> activation -> pooling] -> output`\n",
        "* `[..]` can be repeated multiple times\n",
        "\n",
        "layers to be used:\n",
        "- `nn.Con2d()` , `nn.MaxPool2d()`"
      ],
      "metadata": {
        "id": "4BHeJWjijqVA"
      }
    },
    {
      "cell_type": "code",
      "source": [
        "import torch\n",
        "from torch import nn\n",
        "\n",
        "import matplotlib.pyplot as plt\n",
        "import torchvision\n",
        "from torchvision import datasets\n",
        "from torchvision.transforms import ToTensor"
      ],
      "metadata": {
        "id": "ZchCo1jGlbb8"
      },
      "execution_count": 1,
      "outputs": []
    },
    {
      "cell_type": "code",
      "source": [
        "# setting device agnostic code\n",
        "\n",
        "device = 'cuda' if torch.cuda.is_available() else 'cpu'\n",
        "device"
      ],
      "metadata": {
        "colab": {
          "base_uri": "https://localhost:8080/",
          "height": 35
        },
        "id": "okzPTRc2tfTH",
        "outputId": "36c18e0e-f76a-4f56-eeca-905bd748eb56"
      },
      "execution_count": 2,
      "outputs": [
        {
          "output_type": "execute_result",
          "data": {
            "text/plain": [
              "'cuda'"
            ],
            "application/vnd.google.colaboratory.intrinsic+json": {
              "type": "string"
            }
          },
          "metadata": {},
          "execution_count": 2
        }
      ]
    },
    {
      "cell_type": "code",
      "source": [
        "# copying some functions and code from  https://github.com/aashu-0/learn-pytorch/blob/main/03_pytorch_cv.ipynb\n",
        "\n",
        "# setup training data\n",
        "\n",
        "train_data = datasets.FashionMNIST(\n",
        "    root = 'data',\n",
        "    train = True,\n",
        "    download = True,\n",
        "    transform = ToTensor(),     # convert PIL(python image library) format image into Torch tensors\n",
        "    target_transform= None      # can transform lables as well\n",
        "    )\n",
        "\n",
        "# setup testing data\n",
        "test_data = datasets.FashionMNIST(\n",
        "    root = 'data',\n",
        "    train = False,\n",
        "    download= True,\n",
        "    transform = ToTensor()\n",
        ")\n",
        "\n",
        "class_names =train_data.classes\n",
        "class_names"
      ],
      "metadata": {
        "colab": {
          "base_uri": "https://localhost:8080/"
        },
        "id": "allkv3SjsoXK",
        "outputId": "726db0b3-8eaf-4702-9579-ac8c8bc7a732"
      },
      "execution_count": 3,
      "outputs": [
        {
          "output_type": "execute_result",
          "data": {
            "text/plain": [
              "['T-shirt/top',\n",
              " 'Trouser',\n",
              " 'Pullover',\n",
              " 'Dress',\n",
              " 'Coat',\n",
              " 'Sandal',\n",
              " 'Shirt',\n",
              " 'Sneaker',\n",
              " 'Bag',\n",
              " 'Ankle boot']"
            ]
          },
          "metadata": {},
          "execution_count": 3
        }
      ]
    },
    {
      "cell_type": "code",
      "source": [
        "class FashionMNISTModelV2(nn.Module):\n",
        "  def __init__(self, input_shape: int,\n",
        "               hidden_units: int,\n",
        "               output_shape: int):\n",
        "    super().__init__()\n",
        "    self.block1 = nn.Sequential(\n",
        "        nn.Conv2d(in_channels= input_shape,\n",
        "                  out_channels= hidden_units,\n",
        "                  kernel_size= 3,  # size of the filter that's going over the image\n",
        "                  stride=1, # step size by which filter/kernel move across the image\n",
        "                  padding=1), #can take values 'valid'(==no padding)\n",
        "                             #or 'same'(same as input size)  or 'int'(for specific number)\n",
        "\n",
        "        nn.ReLU(),\n",
        "        nn.Conv2d(in_channels= hidden_units,\n",
        "                  out_channels= hidden_units,\n",
        "                  kernel_size= 3,\n",
        "                  stride = 1,  # = 1 by default\n",
        "                  padding=1),\n",
        "        nn.ReLU(),\n",
        "        nn.MaxPool2d(kernel_size=2,\n",
        "                     stride=2)  # by default equal to kernel_size\n",
        "    )\n",
        "\n",
        "    self.block2 = nn.Sequential(\n",
        "        nn.Conv2d(hidden_units,hidden_units,3,padding=1),\n",
        "        nn.ReLU(),\n",
        "        nn.Conv2d(hidden_units,hidden_units,3,padding=1),\n",
        "        nn.ReLU(),\n",
        "        nn.MaxPool2d(2)\n",
        "    )\n",
        "\n",
        "    self.classifier = nn.Sequential(\n",
        "        nn.Flatten(),\n",
        "        nn.Linear(in_features= hidden_units*7*7,  #why?? -> get to know little later\n",
        "                  out_features=output_shape)\n",
        "    )\n",
        "\n",
        "  def forward(self, x: torch.Tensor):\n",
        "    x = self.block1(x)\n",
        "    #print(x.shape)\n",
        "    x = self.block2(x)\n",
        "    #print(x.shape)\n",
        "    x = self.classifier(x)\n",
        "    #print(x.shape)\n",
        "\n",
        "    return x\n",
        "\n",
        "\n",
        "# let's call the our model\n",
        "torch.manual_seed(42)\n",
        "model02 = FashionMNISTModelV2( input_shape=1,\n",
        "                              hidden_units=10,\n",
        "                               output_shape= len(class_names)).to(device)\n",
        "model02"
      ],
      "metadata": {
        "id": "_GBX3RNWjnvG",
        "colab": {
          "base_uri": "https://localhost:8080/"
        },
        "outputId": "0568e841-a1be-4858-8a2e-06eb3cf8ec52"
      },
      "execution_count": 4,
      "outputs": [
        {
          "output_type": "execute_result",
          "data": {
            "text/plain": [
              "FashionMNISTModelV2(\n",
              "  (block1): Sequential(\n",
              "    (0): Conv2d(1, 10, kernel_size=(3, 3), stride=(1, 1), padding=(1, 1))\n",
              "    (1): ReLU()\n",
              "    (2): Conv2d(10, 10, kernel_size=(3, 3), stride=(1, 1), padding=(1, 1))\n",
              "    (3): ReLU()\n",
              "    (4): MaxPool2d(kernel_size=2, stride=2, padding=0, dilation=1, ceil_mode=False)\n",
              "  )\n",
              "  (block2): Sequential(\n",
              "    (0): Conv2d(10, 10, kernel_size=(3, 3), stride=(1, 1), padding=(1, 1))\n",
              "    (1): ReLU()\n",
              "    (2): Conv2d(10, 10, kernel_size=(3, 3), stride=(1, 1), padding=(1, 1))\n",
              "    (3): ReLU()\n",
              "    (4): MaxPool2d(kernel_size=2, stride=2, padding=0, dilation=1, ceil_mode=False)\n",
              "  )\n",
              "  (classifier): Sequential(\n",
              "    (0): Flatten(start_dim=1, end_dim=-1)\n",
              "    (1): Linear(in_features=490, out_features=10, bias=True)\n",
              "  )\n",
              ")"
            ]
          },
          "metadata": {},
          "execution_count": 4
        }
      ]
    },
    {
      "cell_type": "markdown",
      "source": [
        "*So what we have done is just find a model architecture and replicate with code*"
      ],
      "metadata": {
        "id": "qPXbGBlLty8y"
      }
    },
    {
      "cell_type": "markdown",
      "source": [
        "**`nn.conv2d()`**"
      ],
      "metadata": {
        "id": "Bk0Q9FlQuD-g"
      }
    },
    {
      "cell_type": "code",
      "source": [
        "# let's create a toy data just like used on CNN Explainer with same size\n",
        "\n",
        "torch.manual_seed(42)\n",
        "\n",
        "images = torch.randn(size=(32,3,64,64))  #[batch_size, color_channels, height, width]\n",
        "\n",
        "test_image = images[0]\n",
        "\n",
        "print(f'image batch shape: {images.shape}')\n",
        "print(f'single image shape: {test_image.shape}')\n",
        "\n",
        "print(f'single image pixel values: {test_image}')"
      ],
      "metadata": {
        "colab": {
          "base_uri": "https://localhost:8080/"
        },
        "id": "1oBvaOUYtq8x",
        "outputId": "bbc742bf-644f-4bf9-c5e6-0538cb9d18ab"
      },
      "execution_count": 5,
      "outputs": [
        {
          "output_type": "stream",
          "name": "stdout",
          "text": [
            "image batch shape: torch.Size([32, 3, 64, 64])\n",
            "single image shape: torch.Size([3, 64, 64])\n",
            "single image pixel values: tensor([[[ 1.9269,  1.4873,  0.9007,  ...,  1.8446, -1.1845,  1.3835],\n",
            "         [ 1.4451,  0.8564,  2.2181,  ...,  0.3399,  0.7200,  0.4114],\n",
            "         [ 1.9312,  1.0119, -1.4364,  ..., -0.5558,  0.7043,  0.7099],\n",
            "         ...,\n",
            "         [-0.5610, -0.4830,  0.4770,  ..., -0.2713, -0.9537, -0.6737],\n",
            "         [ 0.3076, -0.1277,  0.0366,  ..., -2.0060,  0.2824, -0.8111],\n",
            "         [-1.5486,  0.0485, -0.7712,  ..., -0.1403,  0.9416, -0.0118]],\n",
            "\n",
            "        [[-0.5197,  1.8524,  1.8365,  ...,  0.8935, -1.5114, -0.8515],\n",
            "         [ 2.0818,  1.0677, -1.4277,  ...,  1.6612, -2.6223, -0.4319],\n",
            "         [-0.1010, -0.4388, -1.9775,  ...,  0.2106,  0.2536, -0.7318],\n",
            "         ...,\n",
            "         [ 0.2779,  0.7342, -0.3736,  ..., -0.4601,  0.1815,  0.1850],\n",
            "         [ 0.7205, -0.2833,  0.0937,  ..., -0.1002, -2.3609,  2.2465],\n",
            "         [-1.3242, -0.1973,  0.2920,  ...,  0.5409,  0.6940,  1.8563]],\n",
            "\n",
            "        [[-0.7978,  1.0261,  1.1465,  ...,  1.2134,  0.9354, -0.0780],\n",
            "         [-1.4647, -1.9571,  0.1017,  ..., -1.9986, -0.7409,  0.7011],\n",
            "         [-1.3938,  0.8466, -1.7191,  ..., -1.1867,  0.1320,  0.3407],\n",
            "         ...,\n",
            "         [ 0.8206, -0.3745,  1.2499,  ..., -0.0676,  0.0385,  0.6335],\n",
            "         [-0.5589, -0.3393,  0.2347,  ...,  2.1181,  2.4569,  1.3083],\n",
            "         [-0.4092,  1.5199,  0.2401,  ..., -0.2558,  0.7870,  0.9924]]])\n"
          ]
        }
      ]
    },
    {
      "cell_type": "code",
      "source": [
        "# let's create a cnn layer with same dim as TinyVGG\n",
        "torch.manual_seed(42)\n",
        "conv_layer = nn.Conv2d(in_channels=3, # no of channels in input image\n",
        "                       out_channels=10, # no of channels after convolution\n",
        "                       kernel_size=3, # filter size\n",
        "                       stride=1, # step filter take at a time, default 1\n",
        "                       padding=0) # added to all four sides of input\n",
        "\n",
        "# pass the data\n",
        "conv_layer(test_image).shape"
      ],
      "metadata": {
        "colab": {
          "base_uri": "https://localhost:8080/"
        },
        "id": "Mtf0eTYQv0P5",
        "outputId": "757add64-d03c-4a4d-e19b-fe8c8202e5a7"
      },
      "execution_count": 6,
      "outputs": [
        {
          "output_type": "execute_result",
          "data": {
            "text/plain": [
              "torch.Size([10, 62, 62])"
            ]
          },
          "metadata": {},
          "execution_count": 6
        }
      ]
    },
    {
      "cell_type": "code",
      "source": [
        "torch.manual_seed(42)\n",
        "\n",
        "# create a new conv layer\n",
        "conv_layer_2 = nn.Conv2d(in_channels=3,\n",
        "                         out_channels=10,\n",
        "                         kernel_size=(5,5),  #kernel is usually a square so a tuple also works\n",
        "                         stride = 2,\n",
        "                         padding=0)\n",
        "\n",
        "conv_layer_2(test_image).shape"
      ],
      "metadata": {
        "colab": {
          "base_uri": "https://localhost:8080/"
        },
        "id": "tmh_roy9wW-m",
        "outputId": "2fff2af2-5c5d-4358-a7cb-a6aa21c9e803"
      },
      "execution_count": 7,
      "outputs": [
        {
          "output_type": "execute_result",
          "data": {
            "text/plain": [
              "torch.Size([10, 30, 30])"
            ]
          },
          "metadata": {},
          "execution_count": 7
        }
      ]
    },
    {
      "cell_type": "markdown",
      "source": [
        " - now what's happening behind the scenes of these shape change as parameters passed are changed\n",
        " - the goal is to compress the information"
      ],
      "metadata": {
        "id": "xujmKYXnpD06"
      }
    },
    {
      "cell_type": "code",
      "source": [
        "# conv2d internal paramas\n",
        "conv_layer_2.state_dict()"
      ],
      "metadata": {
        "id": "6q4J5NUwzjxD",
        "colab": {
          "base_uri": "https://localhost:8080/"
        },
        "outputId": "e78bb031-2835-406c-f776-01715f774d73"
      },
      "execution_count": 8,
      "outputs": [
        {
          "output_type": "execute_result",
          "data": {
            "text/plain": [
              "OrderedDict([('weight',\n",
              "              tensor([[[[ 0.0883,  0.0958, -0.0271,  0.1061, -0.0253],\n",
              "                        [ 0.0233, -0.0562,  0.0678,  0.1018, -0.0847],\n",
              "                        [ 0.1004,  0.0216,  0.0853,  0.0156,  0.0557],\n",
              "                        [-0.0163,  0.0890,  0.0171, -0.0539,  0.0294],\n",
              "                        [-0.0532, -0.0135, -0.0469,  0.0766, -0.0911]],\n",
              "              \n",
              "                       [[-0.0532, -0.0326, -0.0694,  0.0109, -0.1140],\n",
              "                        [ 0.1043, -0.0981,  0.0891,  0.0192, -0.0375],\n",
              "                        [ 0.0714,  0.0180,  0.0933,  0.0126, -0.0364],\n",
              "                        [ 0.0310, -0.0313,  0.0486,  0.1031,  0.0667],\n",
              "                        [-0.0505,  0.0667,  0.0207,  0.0586, -0.0704]],\n",
              "              \n",
              "                       [[-0.1143, -0.0446, -0.0886,  0.0947,  0.0333],\n",
              "                        [ 0.0478,  0.0365, -0.0020,  0.0904, -0.0820],\n",
              "                        [ 0.0073, -0.0788,  0.0356, -0.0398,  0.0354],\n",
              "                        [-0.0241,  0.0958, -0.0684, -0.0689, -0.0689],\n",
              "                        [ 0.1039,  0.0385,  0.1111, -0.0953, -0.1145]]],\n",
              "              \n",
              "              \n",
              "                      [[[-0.0903, -0.0777,  0.0468,  0.0413,  0.0959],\n",
              "                        [-0.0596, -0.0787,  0.0613, -0.0467,  0.0701],\n",
              "                        [-0.0274,  0.0661, -0.0897, -0.0583,  0.0352],\n",
              "                        [ 0.0244, -0.0294,  0.0688,  0.0785, -0.0837],\n",
              "                        [-0.0616,  0.1057, -0.0390, -0.0409, -0.1117]],\n",
              "              \n",
              "                       [[-0.0661,  0.0288, -0.0152, -0.0838,  0.0027],\n",
              "                        [-0.0789, -0.0980, -0.0636, -0.1011, -0.0735],\n",
              "                        [ 0.1154,  0.0218,  0.0356, -0.1077, -0.0758],\n",
              "                        [-0.0384,  0.0181, -0.1016, -0.0498, -0.0691],\n",
              "                        [ 0.0003, -0.0430, -0.0080, -0.0782, -0.0793]],\n",
              "              \n",
              "                       [[-0.0674, -0.0395, -0.0911,  0.0968, -0.0229],\n",
              "                        [ 0.0994,  0.0360, -0.0978,  0.0799, -0.0318],\n",
              "                        [-0.0443, -0.0958, -0.1148,  0.0330, -0.0252],\n",
              "                        [ 0.0450, -0.0948,  0.0857, -0.0848, -0.0199],\n",
              "                        [ 0.0241,  0.0596,  0.0932,  0.1052, -0.0916]]],\n",
              "              \n",
              "              \n",
              "                      [[[ 0.0291, -0.0497, -0.0127, -0.0864,  0.1052],\n",
              "                        [-0.0847,  0.0617,  0.0406,  0.0375, -0.0624],\n",
              "                        [ 0.1050,  0.0254,  0.0149, -0.1018,  0.0485],\n",
              "                        [-0.0173, -0.0529,  0.0992,  0.0257, -0.0639],\n",
              "                        [-0.0584, -0.0055,  0.0645, -0.0295, -0.0659]],\n",
              "              \n",
              "                       [[-0.0395, -0.0863,  0.0412,  0.0894, -0.1087],\n",
              "                        [ 0.0268,  0.0597,  0.0209, -0.0411,  0.0603],\n",
              "                        [ 0.0607,  0.0432, -0.0203, -0.0306,  0.0124],\n",
              "                        [-0.0204, -0.0344,  0.0738,  0.0992, -0.0114],\n",
              "                        [-0.0259,  0.0017, -0.0069,  0.0278,  0.0324]],\n",
              "              \n",
              "                       [[-0.1049, -0.0426,  0.0972,  0.0450, -0.0057],\n",
              "                        [-0.0696, -0.0706, -0.1034, -0.0376,  0.0390],\n",
              "                        [ 0.0736,  0.0533, -0.1021, -0.0694, -0.0182],\n",
              "                        [ 0.1117,  0.0167, -0.0299,  0.0478, -0.0440],\n",
              "                        [-0.0747,  0.0843, -0.0525, -0.0231, -0.1149]]],\n",
              "              \n",
              "              \n",
              "                      [[[ 0.0773,  0.0875,  0.0421, -0.0805, -0.1140],\n",
              "                        [-0.0938,  0.0861,  0.0554,  0.0972,  0.0605],\n",
              "                        [ 0.0292, -0.0011, -0.0878, -0.0989, -0.1080],\n",
              "                        [ 0.0473, -0.0567, -0.0232, -0.0665, -0.0210],\n",
              "                        [-0.0813, -0.0754,  0.0383, -0.0343,  0.0713]],\n",
              "              \n",
              "                       [[-0.0370, -0.0847, -0.0204, -0.0560, -0.0353],\n",
              "                        [-0.1099,  0.0646, -0.0804,  0.0580,  0.0524],\n",
              "                        [ 0.0825, -0.0886,  0.0830, -0.0546,  0.0428],\n",
              "                        [ 0.1084, -0.0163, -0.0009, -0.0266, -0.0964],\n",
              "                        [ 0.0554, -0.1146,  0.0717,  0.0864,  0.1092]],\n",
              "              \n",
              "                       [[-0.0272, -0.0949,  0.0260,  0.0638, -0.1149],\n",
              "                        [-0.0262, -0.0692, -0.0101, -0.0568, -0.0472],\n",
              "                        [-0.0367, -0.1097,  0.0947,  0.0968, -0.0181],\n",
              "                        [-0.0131, -0.0471, -0.1043, -0.1124,  0.0429],\n",
              "                        [-0.0634, -0.0742, -0.0090, -0.0385, -0.0374]]],\n",
              "              \n",
              "              \n",
              "                      [[[ 0.0037, -0.0245, -0.0398, -0.0553, -0.0940],\n",
              "                        [ 0.0968, -0.0462,  0.0306, -0.0401,  0.0094],\n",
              "                        [ 0.1077,  0.0532, -0.1001,  0.0458,  0.1096],\n",
              "                        [ 0.0304,  0.0774,  0.1138, -0.0177,  0.0240],\n",
              "                        [-0.0803, -0.0238,  0.0855,  0.0592, -0.0731]],\n",
              "              \n",
              "                       [[-0.0926, -0.0789, -0.1140, -0.0891, -0.0286],\n",
              "                        [ 0.0779,  0.0193, -0.0878, -0.0926,  0.0574],\n",
              "                        [-0.0859, -0.0142,  0.0554, -0.0534, -0.0126],\n",
              "                        [-0.0101, -0.0273, -0.0585, -0.1029, -0.0933],\n",
              "                        [-0.0618,  0.1115, -0.0558, -0.0775,  0.0280]],\n",
              "              \n",
              "                       [[ 0.0318,  0.0633,  0.0878,  0.0643, -0.1145],\n",
              "                        [ 0.0102,  0.0699, -0.0107, -0.0680,  0.1101],\n",
              "                        [-0.0432, -0.0657, -0.1041,  0.0052,  0.0512],\n",
              "                        [ 0.0256,  0.0228, -0.0876, -0.1078,  0.0020],\n",
              "                        [ 0.1053,  0.0666, -0.0672, -0.0150, -0.0851]]],\n",
              "              \n",
              "              \n",
              "                      [[[-0.0557,  0.0209,  0.0629,  0.0957, -0.1060],\n",
              "                        [ 0.0772, -0.0814,  0.0432,  0.0977,  0.0016],\n",
              "                        [ 0.1051, -0.0984, -0.0441,  0.0673, -0.0252],\n",
              "                        [-0.0236, -0.0481,  0.0796,  0.0566,  0.0370],\n",
              "                        [-0.0649, -0.0937,  0.0125,  0.0342, -0.0533]],\n",
              "              \n",
              "                       [[-0.0323,  0.0780,  0.0092,  0.0052, -0.0284],\n",
              "                        [-0.1046, -0.1086, -0.0552, -0.0587,  0.0360],\n",
              "                        [-0.0336, -0.0452,  0.1101,  0.0402,  0.0823],\n",
              "                        [-0.0559, -0.0472,  0.0424, -0.0769, -0.0755],\n",
              "                        [-0.0056, -0.0422, -0.0866,  0.0685,  0.0929]],\n",
              "              \n",
              "                       [[ 0.0187, -0.0201, -0.1070, -0.0421,  0.0294],\n",
              "                        [ 0.0544, -0.0146, -0.0457,  0.0643, -0.0920],\n",
              "                        [ 0.0730, -0.0448,  0.0018, -0.0228,  0.0140],\n",
              "                        [-0.0349,  0.0840, -0.0030,  0.0901,  0.1110],\n",
              "                        [-0.0563, -0.0842,  0.0926,  0.0905, -0.0882]]],\n",
              "              \n",
              "              \n",
              "                      [[[-0.0089, -0.1139, -0.0945,  0.0223,  0.0307],\n",
              "                        [ 0.0245, -0.0314,  0.1065,  0.0165, -0.0681],\n",
              "                        [-0.0065,  0.0277,  0.0404, -0.0816,  0.0433],\n",
              "                        [-0.0590, -0.0959, -0.0631,  0.1114,  0.0987],\n",
              "                        [ 0.1034,  0.0678,  0.0872, -0.0155, -0.0635]],\n",
              "              \n",
              "                       [[ 0.0577, -0.0598, -0.0779, -0.0369,  0.0242],\n",
              "                        [ 0.0594, -0.0448, -0.0680,  0.0156, -0.0681],\n",
              "                        [-0.0752,  0.0602, -0.0194,  0.1055,  0.1123],\n",
              "                        [ 0.0345,  0.0397,  0.0266,  0.0018, -0.0084],\n",
              "                        [ 0.0016,  0.0431,  0.1074, -0.0299, -0.0488]],\n",
              "              \n",
              "                       [[-0.0280, -0.0558,  0.0196,  0.0862,  0.0903],\n",
              "                        [ 0.0530, -0.0850, -0.0620, -0.0254, -0.0213],\n",
              "                        [ 0.0095, -0.1060,  0.0359, -0.0881, -0.0731],\n",
              "                        [-0.0960,  0.1006, -0.1093,  0.0871, -0.0039],\n",
              "                        [-0.0134,  0.0722, -0.0107,  0.0724,  0.0835]]],\n",
              "              \n",
              "              \n",
              "                      [[[-0.1003,  0.0444,  0.0218,  0.0248,  0.0169],\n",
              "                        [ 0.0316, -0.0555, -0.0148,  0.1097,  0.0776],\n",
              "                        [-0.0043, -0.1086,  0.0051, -0.0786,  0.0939],\n",
              "                        [-0.0701, -0.0083, -0.0256,  0.0205,  0.1087],\n",
              "                        [ 0.0110,  0.0669,  0.0896,  0.0932, -0.0399]],\n",
              "              \n",
              "                       [[-0.0258,  0.0556, -0.0315,  0.0541, -0.0252],\n",
              "                        [-0.0783,  0.0470,  0.0177,  0.0515,  0.1147],\n",
              "                        [ 0.0788,  0.1095,  0.0062, -0.0993, -0.0810],\n",
              "                        [-0.0717, -0.1018, -0.0579, -0.1063, -0.1065],\n",
              "                        [-0.0690, -0.1138, -0.0709,  0.0440,  0.0963]],\n",
              "              \n",
              "                       [[-0.0343, -0.0336,  0.0617, -0.0570, -0.0546],\n",
              "                        [ 0.0711, -0.1006,  0.0141,  0.1020,  0.0198],\n",
              "                        [ 0.0314, -0.0672, -0.0016,  0.0063,  0.0283],\n",
              "                        [ 0.0449,  0.1003, -0.0881,  0.0035, -0.0577],\n",
              "                        [-0.0913, -0.0092, -0.1016,  0.0806,  0.0134]]],\n",
              "              \n",
              "              \n",
              "                      [[[-0.0622,  0.0603, -0.1093, -0.0447, -0.0225],\n",
              "                        [-0.0981, -0.0734, -0.0188,  0.0876,  0.1115],\n",
              "                        [ 0.0735, -0.0689, -0.0755,  0.1008,  0.0408],\n",
              "                        [ 0.0031,  0.0156, -0.0928, -0.0386,  0.1112],\n",
              "                        [-0.0285, -0.0058, -0.0959, -0.0646, -0.0024]],\n",
              "              \n",
              "                       [[-0.0717, -0.0143,  0.0470, -0.1130,  0.0343],\n",
              "                        [-0.0763, -0.0564,  0.0443,  0.0918, -0.0316],\n",
              "                        [-0.0474, -0.1044, -0.0595, -0.1011, -0.0264],\n",
              "                        [ 0.0236, -0.1082,  0.1008,  0.0724, -0.1130],\n",
              "                        [-0.0552,  0.0377, -0.0237, -0.0126, -0.0521]],\n",
              "              \n",
              "                       [[ 0.0927, -0.0645,  0.0958,  0.0075,  0.0232],\n",
              "                        [ 0.0901, -0.0190, -0.0657, -0.0187,  0.0937],\n",
              "                        [-0.0857,  0.0262, -0.1135,  0.0605,  0.0427],\n",
              "                        [ 0.0049,  0.0496,  0.0001,  0.0639, -0.0914],\n",
              "                        [-0.0170,  0.0512,  0.1150,  0.0588, -0.0840]]],\n",
              "              \n",
              "              \n",
              "                      [[[ 0.0888, -0.0257, -0.0247, -0.1050, -0.0182],\n",
              "                        [ 0.0817,  0.0161, -0.0673,  0.0355, -0.0370],\n",
              "                        [ 0.1054, -0.1002, -0.0365, -0.1115, -0.0455],\n",
              "                        [ 0.0364,  0.1112,  0.0194,  0.1132,  0.0226],\n",
              "                        [ 0.0667,  0.0926,  0.0965, -0.0646,  0.1062]],\n",
              "              \n",
              "                       [[ 0.0699, -0.0540, -0.0551, -0.0969,  0.0290],\n",
              "                        [-0.0936,  0.0488,  0.0365, -0.1003,  0.0315],\n",
              "                        [-0.0094,  0.0527,  0.0663, -0.1148,  0.1059],\n",
              "                        [ 0.0968,  0.0459, -0.1055, -0.0412, -0.0335],\n",
              "                        [-0.0297,  0.0651,  0.0420,  0.0915, -0.0432]],\n",
              "              \n",
              "                       [[ 0.0389,  0.0411, -0.0961, -0.1120, -0.0599],\n",
              "                        [ 0.0790, -0.1087, -0.1005,  0.0647,  0.0623],\n",
              "                        [ 0.0950, -0.0872, -0.0845,  0.0592,  0.1004],\n",
              "                        [ 0.0691,  0.0181,  0.0381,  0.1096, -0.0745],\n",
              "                        [-0.0524,  0.0808, -0.0790, -0.0637,  0.0843]]]])),\n",
              "             ('bias',\n",
              "              tensor([ 0.0364,  0.0373, -0.0489, -0.0016,  0.1057, -0.0693,  0.0009,  0.0549,\n",
              "                      -0.0797,  0.1121]))])"
            ]
          },
          "metadata": {},
          "execution_count": 8
        }
      ]
    },
    {
      "cell_type": "markdown",
      "source": [
        "as we change the inputs passed to the `nn.conv2d()` these weights and biases shapes are manipulated"
      ],
      "metadata": {
        "id": "OuFoLo4Lpx_j"
      }
    },
    {
      "cell_type": "code",
      "source": [
        "conv_layer_2.weight.shape, conv_layer_2.bias.shape\n"
      ],
      "metadata": {
        "colab": {
          "base_uri": "https://localhost:8080/"
        },
        "id": "E9OKpormppz6",
        "outputId": "7b6351ee-2c17-4057-c549-b6c14accb2a8"
      },
      "execution_count": 9,
      "outputs": [
        {
          "output_type": "execute_result",
          "data": {
            "text/plain": [
              "(torch.Size([10, 3, 5, 5]), torch.Size([10]))"
            ]
          },
          "metadata": {},
          "execution_count": 9
        }
      ]
    },
    {
      "cell_type": "code",
      "source": [
        "conv_layer.weight.shape, conv_layer.bias.shape"
      ],
      "metadata": {
        "colab": {
          "base_uri": "https://localhost:8080/"
        },
        "id": "sqSHnpbjqMNd",
        "outputId": "c669d487-bccb-4b2f-a5d9-f1097ae94774"
      },
      "execution_count": 10,
      "outputs": [
        {
          "output_type": "execute_result",
          "data": {
            "text/plain": [
              "(torch.Size([10, 3, 3, 3]), torch.Size([10]))"
            ]
          },
          "metadata": {},
          "execution_count": 10
        }
      ]
    },
    {
      "cell_type": "markdown",
      "source": [
        "- these parameters of `nn.conv2d()` are to be set by ourselves => called as 'hyperparameters'\n",
        "- so how to choose\n",
        "  1. start random and try different values and findo out i.e fafo\n",
        "  2. copy a working example like we did :P"
      ],
      "metadata": {
        "id": "ZHDsJS--q3gJ"
      }
    },
    {
      "cell_type": "markdown",
      "source": [
        "**`nn.MaxPool2d()`**"
      ],
      "metadata": {
        "id": "THDAnmoNrNuz"
      }
    },
    {
      "cell_type": "code",
      "source": [
        "# what happens we pass data through max pooling layer\n",
        "\n",
        "print(f'Test image original shape: {test_image.shape}')\n",
        "\n",
        "# create a max pool layer\n",
        "max_pool_layer = nn.MaxPool2d(kernel_size=2)\n",
        "\n",
        "# pass data through just conv layer\n",
        "test_image_through_conv = conv_layer(test_image)\n",
        "print(f'shape after passing through conv layer: {test_image_through_conv.shape}')\n",
        "\n",
        "# pass the data through max pool layer\n",
        "test_image_through_conv_and_maxpool = max_pool_layer(test_image_through_conv)\n",
        "print(f'shape after going through conv and max pool layer: {test_image_through_conv_and_maxpool.shape}')"
      ],
      "metadata": {
        "colab": {
          "base_uri": "https://localhost:8080/"
        },
        "id": "QPTS-xG8qjC_",
        "outputId": "b23d87a1-e1cc-4846-c53e-5421568c5680"
      },
      "execution_count": 11,
      "outputs": [
        {
          "output_type": "stream",
          "name": "stdout",
          "text": [
            "Test image original shape: torch.Size([3, 64, 64])\n",
            "shape after passing through conv layer: torch.Size([10, 62, 62])\n",
            "shape after going through conv and max pool layer: torch.Size([10, 31, 31])\n"
          ]
        }
      ]
    },
    {
      "cell_type": "markdown",
      "source": [
        "`kernel_size` of the `nn.MaxPool2d()` layer affect the size of the output shape\n",
        "halfs in our case (62/2=31)"
      ],
      "metadata": {
        "id": "nNxsFWkbwez_"
      }
    },
    {
      "cell_type": "code",
      "source": [
        "# let's work with smaller tensor\n",
        "torch.manual_seed(42)\n",
        "random_tensor = torch.randn(size=(1,6,6))\n",
        "print(f'Random Tensor: \\n{random_tensor}, \\nRandom tensor shape: \\n{random_tensor.shape}')\n",
        "\n",
        "# max pool layer\n",
        "max_pool_layer = nn.MaxPool2d(kernel_size=2) # by default stride = kernel_size\n",
        "\n",
        "# pass the random tensor\n",
        "max_pool_tensor = max_pool_layer(random_tensor)\n",
        "print(f'\\nMax pool tensor: \\n{max_pool_tensor},\\nMax pool tensor shape: \\n{max_pool_tensor.shape}')\n"
      ],
      "metadata": {
        "colab": {
          "base_uri": "https://localhost:8080/"
        },
        "id": "EMle1QtPwDk3",
        "outputId": "fd45be06-355f-4277-dbd0-4715a4f1becc"
      },
      "execution_count": 12,
      "outputs": [
        {
          "output_type": "stream",
          "name": "stdout",
          "text": [
            "Random Tensor: \n",
            "tensor([[[ 1.9269,  1.4873,  0.9007, -2.1055,  0.6784, -1.2345],\n",
            "         [-0.0431, -1.6047, -0.7521,  1.6487, -0.3925, -1.4036],\n",
            "         [-0.7279, -0.5594, -0.7688,  0.7624,  1.6423, -0.1596],\n",
            "         [-0.4974,  0.4396,  0.3189, -0.4245,  0.3057, -0.7746],\n",
            "         [ 0.0349,  0.3211,  1.5736, -0.8455, -1.2742,  2.1228],\n",
            "         [-1.2347, -0.4879, -1.4181,  0.8963,  0.0499,  2.2667]]]), \n",
            "Random tensor shape: \n",
            "torch.Size([1, 6, 6])\n",
            "\n",
            "Max pool tensor: \n",
            "tensor([[[1.9269, 1.6487, 0.6784],\n",
            "         [0.4396, 0.7624, 1.6423],\n",
            "         [0.3211, 1.5736, 2.2667]]]),\n",
            "Max pool tensor shape: \n",
            "torch.Size([1, 3, 3])\n"
          ]
        }
      ]
    },
    {
      "cell_type": "markdown",
      "source": [
        "different `kernel_size` in `MaxPool2d()` will give different results\n",
        "Max pool tensor is the maximum value from `random_tensor`"
      ],
      "metadata": {
        "id": "ZGbNDVABx_PL"
      }
    },
    {
      "cell_type": "markdown",
      "source": [
        "--------------------------------------------------------------------------------"
      ],
      "metadata": {
        "id": "MdcrtBb23h5p"
      }
    },
    {
      "cell_type": "markdown",
      "source": [
        "- Let's copy some of the requirements and functions form our initial colab notebook of this module"
      ],
      "metadata": {
        "id": "hulcdZbD3XVY"
      }
    },
    {
      "cell_type": "code",
      "source": [
        "# now it's training time\n",
        "# let's create a dataloader\n",
        "from torch.utils.data import DataLoader\n",
        "\n",
        "BATCH_SIZE = 32\n",
        "\n",
        "train_dataloader = DataLoader( train_data,\n",
        "                               batch_size = BATCH_SIZE,\n",
        "                               shuffle = True\n",
        ")\n",
        "\n",
        "test_dataloader = DataLoader( test_data,\n",
        "                               batch_size = BATCH_SIZE,\n",
        "                               shuffle = True\n",
        ")"
      ],
      "metadata": {
        "id": "5tK7j__a2Gl_"
      },
      "execution_count": 13,
      "outputs": []
    },
    {
      "cell_type": "markdown",
      "source": [
        "Loss Function and Optimizer for our CNN Model"
      ],
      "metadata": {
        "id": "iMg8PDtA0ZfN"
      }
    },
    {
      "cell_type": "code",
      "source": [
        "# setup loss and optimizer\n",
        "\n",
        "loss_fn = nn.CrossEntropyLoss()\n",
        "optimizer = torch.optim.SGD(params=model02.parameters(), lr= 0.1)\n",
        "\n",
        "# accuracy function\n",
        "!pip install torchmetrics\n",
        "import torch\n",
        "import torchmetrics\n",
        "accuracy_fn = torchmetrics.Accuracy(task = 'multiclass', num_classes=len(class_names))\n",
        "accuracy_fn = accuracy_fn.to(device)"
      ],
      "metadata": {
        "colab": {
          "base_uri": "https://localhost:8080/"
        },
        "id": "LvLIo9p30iEH",
        "outputId": "55c91987-d7af-4a09-e7c2-f37ca0e965fb"
      },
      "execution_count": 14,
      "outputs": [
        {
          "output_type": "stream",
          "name": "stdout",
          "text": [
            "Requirement already satisfied: torchmetrics in /usr/local/lib/python3.10/dist-packages (1.6.0)\n",
            "Requirement already satisfied: numpy>1.20.0 in /usr/local/lib/python3.10/dist-packages (from torchmetrics) (1.26.4)\n",
            "Requirement already satisfied: packaging>17.1 in /usr/local/lib/python3.10/dist-packages (from torchmetrics) (24.2)\n",
            "Requirement already satisfied: torch>=2.0.0 in /usr/local/lib/python3.10/dist-packages (from torchmetrics) (2.5.1+cu121)\n",
            "Requirement already satisfied: lightning-utilities>=0.8.0 in /usr/local/lib/python3.10/dist-packages (from torchmetrics) (0.11.9)\n",
            "Requirement already satisfied: setuptools in /usr/local/lib/python3.10/dist-packages (from lightning-utilities>=0.8.0->torchmetrics) (75.1.0)\n",
            "Requirement already satisfied: typing-extensions in /usr/local/lib/python3.10/dist-packages (from lightning-utilities>=0.8.0->torchmetrics) (4.12.2)\n",
            "Requirement already satisfied: filelock in /usr/local/lib/python3.10/dist-packages (from torch>=2.0.0->torchmetrics) (3.16.1)\n",
            "Requirement already satisfied: networkx in /usr/local/lib/python3.10/dist-packages (from torch>=2.0.0->torchmetrics) (3.4.2)\n",
            "Requirement already satisfied: jinja2 in /usr/local/lib/python3.10/dist-packages (from torch>=2.0.0->torchmetrics) (3.1.4)\n",
            "Requirement already satisfied: fsspec in /usr/local/lib/python3.10/dist-packages (from torch>=2.0.0->torchmetrics) (2024.10.0)\n",
            "Requirement already satisfied: sympy==1.13.1 in /usr/local/lib/python3.10/dist-packages (from torch>=2.0.0->torchmetrics) (1.13.1)\n",
            "Requirement already satisfied: mpmath<1.4,>=1.1.0 in /usr/local/lib/python3.10/dist-packages (from sympy==1.13.1->torch>=2.0.0->torchmetrics) (1.3.0)\n",
            "Requirement already satisfied: MarkupSafe>=2.0 in /usr/local/lib/python3.10/dist-packages (from jinja2->torch>=2.0.0->torchmetrics) (3.0.2)\n"
          ]
        }
      ]
    },
    {
      "cell_type": "code",
      "source": [
        "# training and test functions\n",
        "\n",
        "def train_step(model: torch.nn.Module,\n",
        "               data_loader: torch.utils.data.DataLoader,\n",
        "               loss_fn: torch.nn.Module,\n",
        "               optimizer: torch.optim.Optimizer,\n",
        "               accuracy_fn,\n",
        "               device: torch.device= device):\n",
        "  train_loss=0\n",
        "  train_acc = 0\n",
        "\n",
        "  model.to(device)\n",
        "  for batch, (X,y) in enumerate(data_loader):\n",
        "    # to gpu(if avaliable)\n",
        "    X, y = X.to(device), y.to(device)\n",
        "\n",
        "    # forward pass\n",
        "    y_pred = model(X)\n",
        "\n",
        "    # loss\n",
        "    loss = loss_fn(y_pred, y)\n",
        "    train_loss += loss\n",
        "    train_acc += accuracy_fn(y_pred, y)\n",
        "\n",
        "    # optimizer zero grad\n",
        "    optimizer.zero_grad()\n",
        "\n",
        "    # loss backward\n",
        "    loss.backward()\n",
        "\n",
        "    # optimizer step\n",
        "    optimizer.step()\n",
        "\n",
        "  # avg loss per epoch\n",
        "  train_loss /= len(data_loader)\n",
        "  train_acc /= len(data_loader)\n",
        "\n",
        "  print(f'Train loss: {train_loss:.5f} | Train accuracy: {train_acc:.2f}')\n",
        "\n",
        "\n",
        "def test_step (model: torch.nn.Module,\n",
        "              data_loader: torch.utils.data.DataLoader,\n",
        "              loss_fn: torch.nn.Module,\n",
        "              accuracy_fn,\n",
        "              device: torch.device = device):\n",
        "  test_loss, test_acc = 0,0\n",
        "  model.to(device)\n",
        "  model.eval()   # put model in eval mode\n",
        "\n",
        "  # turn on the inference mode\n",
        "  with torch.inference_mode():\n",
        "    for X, y in data_loader:\n",
        "\n",
        "      # send data to gpu\n",
        "      X, y = X.to(device), y.to(device)\n",
        "\n",
        "      # forward pass\n",
        "      test_pred = model(X)\n",
        "\n",
        "      # loss and acc\n",
        "      test_loss += loss_fn(test_pred, y)\n",
        "      test_acc += accuracy_fn(test_pred, y)\n",
        "\n",
        "    # avg loss per batch\n",
        "    test_loss /= len(data_loader)\n",
        "    test_acc /= len(data_loader)\n",
        "\n",
        "    print(f'Test Loss: {test_loss:.5f} | Test accuracy: {test_acc:.2f}')"
      ],
      "metadata": {
        "id": "Xpcdc9Wo2efR"
      },
      "execution_count": 15,
      "outputs": []
    },
    {
      "cell_type": "code",
      "source": [
        "model02"
      ],
      "metadata": {
        "colab": {
          "base_uri": "https://localhost:8080/"
        },
        "id": "VDVLMbq2xNqq",
        "outputId": "d4d46762-5005-4a94-ffcd-62d35cfa9bd7"
      },
      "execution_count": 16,
      "outputs": [
        {
          "output_type": "execute_result",
          "data": {
            "text/plain": [
              "FashionMNISTModelV2(\n",
              "  (block1): Sequential(\n",
              "    (0): Conv2d(1, 10, kernel_size=(3, 3), stride=(1, 1), padding=(1, 1))\n",
              "    (1): ReLU()\n",
              "    (2): Conv2d(10, 10, kernel_size=(3, 3), stride=(1, 1), padding=(1, 1))\n",
              "    (3): ReLU()\n",
              "    (4): MaxPool2d(kernel_size=2, stride=2, padding=0, dilation=1, ceil_mode=False)\n",
              "  )\n",
              "  (block2): Sequential(\n",
              "    (0): Conv2d(10, 10, kernel_size=(3, 3), stride=(1, 1), padding=(1, 1))\n",
              "    (1): ReLU()\n",
              "    (2): Conv2d(10, 10, kernel_size=(3, 3), stride=(1, 1), padding=(1, 1))\n",
              "    (3): ReLU()\n",
              "    (4): MaxPool2d(kernel_size=2, stride=2, padding=0, dilation=1, ceil_mode=False)\n",
              "  )\n",
              "  (classifier): Sequential(\n",
              "    (0): Flatten(start_dim=1, end_dim=-1)\n",
              "    (1): Linear(in_features=490, out_features=10, bias=True)\n",
              "  )\n",
              ")"
            ]
          },
          "metadata": {},
          "execution_count": 16
        }
      ]
    },
    {
      "cell_type": "code",
      "source": [
        "from timeit import default_timer as timer\n",
        "\n",
        "def print_train_time(start: float, end: float, device: torch.device = None):\n",
        "  total_time = end-start\n",
        "  print(f'Train Time on {device}: {total_time:.3f} seconds')"
      ],
      "metadata": {
        "id": "E9ADLv4o6MzS"
      },
      "execution_count": 17,
      "outputs": []
    },
    {
      "cell_type": "markdown",
      "source": [
        "Model Training and Testing"
      ],
      "metadata": {
        "id": "uEDOOvJt34vx"
      }
    },
    {
      "cell_type": "markdown",
      "source": [
        "- `tqdm(iterable)` make loops show a smart progress meter\n",
        "\n",
        "-  tqdm means 'I love you so much' in Spanish (te quiero demasiado)"
      ],
      "metadata": {
        "id": "-Lshw40q4y8y"
      }
    },
    {
      "cell_type": "code",
      "source": [
        "from tqdm import tqdm\n",
        "torch.manual_seed(42)\n",
        "\n",
        "# measure time\n",
        "from timeit import default_timer as timer\n",
        "\n",
        "train_time_start_model02 = timer()\n",
        "\n",
        "# train and test\n",
        "\n",
        "epochs = 3\n",
        "for epoch in tqdm(range(epochs)):\n",
        "  print(f'Epoch: {epoch}\\n---')\n",
        "\n",
        "  train_step(model=model02,\n",
        "             data_loader=train_dataloader,\n",
        "             loss_fn=loss_fn,\n",
        "             optimizer=optimizer,\n",
        "             accuracy_fn=accuracy_fn,\n",
        "             device=device)\n",
        "  test_step(model=model02,\n",
        "            data_loader= test_dataloader,\n",
        "            loss_fn=loss_fn,\n",
        "            accuracy_fn = accuracy_fn,\n",
        "            device = device)\n",
        "\n",
        "\n",
        "train_time_end_model02 = timer()\n",
        "\n",
        "total_train_time_model02 = print_train_time(start = train_time_start_model02,\n",
        "                                            end = train_time_end_model02,\n",
        "                                            device = device)"
      ],
      "metadata": {
        "colab": {
          "base_uri": "https://localhost:8080/"
        },
        "id": "Rnj46GZ01ISz",
        "outputId": "2070b3b9-176e-4aa1-e17b-6d5ed3b4d5e5"
      },
      "execution_count": 18,
      "outputs": [
        {
          "output_type": "stream",
          "name": "stderr",
          "text": [
            "\r  0%|          | 0/3 [00:00<?, ?it/s]"
          ]
        },
        {
          "output_type": "stream",
          "name": "stdout",
          "text": [
            "Epoch: 0\n",
            "---\n",
            "Train loss: 0.59128 | Train accuracy: 0.79\n"
          ]
        },
        {
          "output_type": "stream",
          "name": "stderr",
          "text": [
            "\r 33%|███▎      | 1/3 [00:18<00:36, 18.08s/it]"
          ]
        },
        {
          "output_type": "stream",
          "name": "stdout",
          "text": [
            "Test Loss: 0.39385 | Test accuracy: 0.86\n",
            "Epoch: 1\n",
            "---\n",
            "Train loss: 0.35292 | Train accuracy: 0.87\n"
          ]
        },
        {
          "output_type": "stream",
          "name": "stderr",
          "text": [
            "\r 67%|██████▋   | 2/3 [00:47<00:24, 24.84s/it]"
          ]
        },
        {
          "output_type": "stream",
          "name": "stdout",
          "text": [
            "Test Loss: 0.36813 | Test accuracy: 0.87\n",
            "Epoch: 2\n",
            "---\n",
            "Train loss: 0.31900 | Train accuracy: 0.89\n"
          ]
        },
        {
          "output_type": "stream",
          "name": "stderr",
          "text": [
            "100%|██████████| 3/3 [01:05<00:00, 21.68s/it]"
          ]
        },
        {
          "output_type": "stream",
          "name": "stdout",
          "text": [
            "Test Loss: 0.32653 | Test accuracy: 0.88\n",
            "Train Time on cuda: 65.053 seconds\n"
          ]
        },
        {
          "output_type": "stream",
          "name": "stderr",
          "text": [
            "\n"
          ]
        }
      ]
    },
    {
      "cell_type": "markdown",
      "source": [
        "Let's evaluate our model02"
      ],
      "metadata": {
        "id": "dChRJVgj-7zW"
      }
    },
    {
      "cell_type": "code",
      "source": [
        "torch.manual_seed(42)\n",
        "\n",
        "# create a function that takes in a trained model, a Dataloader, a loss fn, an acc fn\n",
        "def eval_model(model: torch.nn.Module,\n",
        "              data_loader: torch.utils.data.DataLoader,\n",
        "              loss_fn: torch.nn.Module,\n",
        "              accuracy_fn,\n",
        "               device: torch.device = device):\n",
        "  loss = 0\n",
        "  acc =0\n",
        "  model.eval()\n",
        "  with torch.inference_mode():\n",
        "    for X, y in data_loader:\n",
        "      # send data to the target device\n",
        "      X, y = X.to(device), y.to(device)\n",
        "      # make preds\n",
        "      y_pred = model(X)\n",
        "\n",
        "      # accumulate the loss and accuracy values per batch\n",
        "      loss += loss_fn(y_pred,y)\n",
        "      acc += accuracy_fn(y_pred, y)\n",
        "\n",
        "\n",
        "    # average loss/acc per batch\n",
        "\n",
        "    loss /= len(data_loader)\n",
        "    acc /= len(data_loader)\n",
        "\n",
        "  return {'model_name' : model.__class__.__name__,    # only works when model was created with a class\n",
        "          'model_loss' : loss.item(),\n",
        "          'model_acc': acc.item()}"
      ],
      "metadata": {
        "id": "wLZomZd8_hjU"
      },
      "execution_count": 19,
      "outputs": []
    },
    {
      "cell_type": "code",
      "source": [
        "model02_results = eval_model(model=model02,\n",
        "                             data_loader=test_dataloader,\n",
        "                             loss_fn=loss_fn,\n",
        "                             accuracy_fn=accuracy_fn)\n",
        "\n",
        "model02_results"
      ],
      "metadata": {
        "colab": {
          "base_uri": "https://localhost:8080/"
        },
        "id": "59LCGe7L5NoV",
        "outputId": "cbee352f-1899-4c68-bd90-c02f21f0b87e"
      },
      "execution_count": 20,
      "outputs": [
        {
          "output_type": "execute_result",
          "data": {
            "text/plain": [
              "{'model_name': 'FashionMNISTModelV2',\n",
              " 'model_loss': 0.32607659697532654,\n",
              " 'model_acc': 0.88069087266922}"
            ]
          },
          "metadata": {},
          "execution_count": 20
        }
      ]
    },
    {
      "cell_type": "markdown",
      "source": [
        "yay!! pretty nice!!\n",
        "\n",
        "- comapring model02 with our previous models, it looks like our CNN model performed the best => lowest loss(0.33), highest acc(87%)\n",
        "\n",
        "But we can see the time taken for training model02 is highest\n",
        "- this is what we call **Performance-speed tradeoff**\n",
        "- here the performance increases at the cost of training time"
      ],
      "metadata": {
        "id": "YMxpgYKXAFhT"
      }
    },
    {
      "cell_type": "markdown",
      "source": [
        "Let's further evaluate model02(our best model)"
      ],
      "metadata": {
        "id": "A0fZ0yqtBYgd"
      }
    },
    {
      "cell_type": "code",
      "source": [
        "def make_predictions(model: torch.nn.Module,\n",
        "                     data: list,\n",
        "                     device: torch.device = device):\n",
        "  pred_probs = []\n",
        "  model.eval()\n",
        "  with torch.inference_mode():\n",
        "    for sample in data:\n",
        "      #prepare sample\n",
        "      sample = torch.unsqueeze(sample, dim=0).to(device) # add an extra dimension\n",
        "\n",
        "      #forward pass\n",
        "      pred_logits = model(sample)\n",
        "\n",
        "      #get preds prob(logits -> prediction probability)\n",
        "      pred_prob = torch.softmax(pred_logits.squeeze(), dim=0)\n",
        "\n",
        "      pred_probs.append(pred_prob.cpu())\n",
        "\n",
        "  return torch.stack(pred_probs) # to turn list of tensor into tensor\n"
      ],
      "metadata": {
        "id": "e8nG4gBy_y7M"
      },
      "execution_count": 44,
      "outputs": []
    },
    {
      "cell_type": "code",
      "source": [
        "import random\n",
        "\n",
        "test_samples = []\n",
        "test_labels = []\n",
        "\n",
        "for sample, label in random.sample(list(test_data), k=9):  # returns a list of k elements from sequence.\n",
        "    test_samples.append(sample)\n",
        "    test_labels.append(label)\n",
        "\n",
        "# print first test sample shape and label\n",
        "print(f'Test sample shape: {test_samples[0].shape}')\n",
        "print(f'Test sample label: {test_labels[0]} ({class_names[test_labels[0]]})')"
      ],
      "metadata": {
        "colab": {
          "base_uri": "https://localhost:8080/"
        },
        "id": "xtE-gabIHpLO",
        "outputId": "021cae8d-7312-4a14-b7a3-883e11f7adda"
      },
      "execution_count": 54,
      "outputs": [
        {
          "output_type": "stream",
          "name": "stdout",
          "text": [
            "Test sample shape: torch.Size([1, 28, 28])\n",
            "Test sample label: 9 (Ankle boot)\n"
          ]
        }
      ]
    },
    {
      "cell_type": "code",
      "source": [
        "# make predictions\n",
        "\n",
        "pred_probs = make_predictions(model= model02,\n",
        "                              data=test_samples)\n",
        "\n",
        "pred_probs[:2]"
      ],
      "metadata": {
        "colab": {
          "base_uri": "https://localhost:8080/"
        },
        "id": "_6GMbekBJoTY",
        "outputId": "18987c74-9c32-430f-89ad-5315824c39ad"
      },
      "execution_count": 55,
      "outputs": [
        {
          "output_type": "execute_result",
          "data": {
            "text/plain": [
              "tensor([[1.8397e-05, 3.1071e-07, 1.7769e-06, 2.3220e-05, 4.2096e-07, 8.6165e-03,\n",
              "         5.2772e-07, 3.0148e-02, 1.8636e-03, 9.5933e-01],\n",
              "        [5.6420e-06, 2.9899e-07, 1.8992e-06, 1.1817e-06, 6.0754e-08, 2.4337e-04,\n",
              "         2.3356e-07, 9.7022e-01, 1.5612e-04, 2.9367e-02]])"
            ]
          },
          "metadata": {},
          "execution_count": 55
        }
      ]
    },
    {
      "cell_type": "code",
      "source": [
        "# turn pred probabilities into pred labels\n",
        "pred_classes = pred_probs.argmax(dim=1)\n",
        "pred_classes"
      ],
      "metadata": {
        "colab": {
          "base_uri": "https://localhost:8080/"
        },
        "id": "EXVjttGoKbaG",
        "outputId": "334b1406-7ae0-4aba-edc4-3f0836a45f45"
      },
      "execution_count": 56,
      "outputs": [
        {
          "output_type": "execute_result",
          "data": {
            "text/plain": [
              "tensor([9, 7, 2, 0, 1, 0, 3, 5, 4])"
            ]
          },
          "metadata": {},
          "execution_count": 56
        }
      ]
    },
    {
      "cell_type": "code",
      "source": [
        "test_labels, pred_classes"
      ],
      "metadata": {
        "colab": {
          "base_uri": "https://localhost:8080/"
        },
        "id": "Sr8k-S6cLAAZ",
        "outputId": "c3cb20ea-59bd-41f4-eed5-8ecc7eff9df0"
      },
      "execution_count": 57,
      "outputs": [
        {
          "output_type": "execute_result",
          "data": {
            "text/plain": [
              "([9, 7, 2, 0, 1, 0, 4, 5, 4], tensor([9, 7, 2, 0, 1, 0, 3, 5, 4]))"
            ]
          },
          "metadata": {},
          "execution_count": 57
        }
      ]
    },
    {
      "cell_type": "markdown",
      "source": [
        "the predicted output of 4th element is not accurate\n",
        "let's see what's went wrong and visualize!"
      ],
      "metadata": {
        "id": "mLw_28FOLaX-"
      }
    },
    {
      "cell_type": "code",
      "source": [
        "# plot predictons\n",
        "\n",
        "plt.figure(figsize=(9,9))\n",
        "nrows= 3\n",
        "ncols=3\n",
        "for i, sample in enumerate(test_samples):\n",
        "  # subplot\n",
        "  plt.subplot(nrows, ncols, i+1)\n",
        "\n",
        "  #plot the image\n",
        "  plt.imshow(sample.squeeze(), cmap='grey')\n",
        "\n",
        "  #prediction label\n",
        "  pred_label = class_names[pred_classes[i]]\n",
        "\n",
        "  # truth label\n",
        "  truth_label = class_names[test_labels[i]]\n",
        "\n",
        "  # title tet\n",
        "  title_text = f'Pred: {pred_label}, Truth: {truth_label}'\n",
        "\n",
        "  # change title colour as per equality\n",
        "  if pred_label == truth_label:\n",
        "    plt.title(title_text, fontsize= 10, c ='g')\n",
        "  else:\n",
        "    plt.title(title_text, fontsize= 10, c ='r')\n",
        "\n",
        "  plt.axis(False);"
      ],
      "metadata": {
        "colab": {
          "base_uri": "https://localhost:8080/",
          "height": 749
        },
        "id": "BQKBH1UoLGZO",
        "outputId": "b20f1164-12bd-4ff1-9878-92b63b2974c9"
      },
      "execution_count": 58,
      "outputs": [
        {
          "output_type": "display_data",
          "data": {
            "text/plain": [
              "<Figure size 900x900 with 9 Axes>"
            ],
            "image/png": "[encoded data removed]"
          },
          "metadata": {}
        }
      ]
    },
    {
      "cell_type": "markdown",
      "source": [
        "yay! pretty well but not 100% accurate"
      ],
      "metadata": {
        "id": "eIIaG61zNzME"
      }
    },
    {
      "cell_type": "code",
      "source": [
        "\n",
        "from tqdm.auto import tqdm\n",
        "# make prediction with our trained model\n",
        "y_preds =[]\n",
        "model02.eval()\n",
        "with torch.inference_mode():\n",
        "  for X,y in tqdm(test_dataloader, desc='Making Predictions'):\n",
        "    X, y = X.to(device), y.to(device)\n",
        "    #forward pass\n",
        "    y_logit = model02(X)\n",
        "\n",
        "    # logits -> pred probabilities -> predicitons labels\n",
        "    y_pred = torch.softmax(y_logit, dim=1).argmax(dim=1)\n",
        "    #put preds on cpu for evaluation\n",
        "    y_preds.append(y_pred.cpu())\n",
        "\n",
        "#concatenate\n",
        "y_pred_tensor = torch.cat(y_preds)  # list of tensor -> tensor | can use torch.stack()\n"
      ],
      "metadata": {
        "colab": {
          "base_uri": "https://localhost:8080/",
          "height": 49,
          "referenced_widgets": [
            "b17216d8aca84eeab200c0aec3db6268",
            "c8a0cc8151ce458bbcca06c6c49f5828",
            "4f72af0df6b545fcaad5b450c638005e",
            "efb3fca9955d4d86a280b886796e2849",
            "7ec3f6bb3a784cda81c9d6dae0626713",
            "e21497d5451f43ecbc7e3f049d732059",
            "e6e8fadea95943e6b7b0f2de349a604a",
            "dc6ff74b2d28430c9d766ec447112eb6",
            "c4812e7df3474713b2dfc3b20fd0ba21",
            "cbc55b91c50c411aa64510f726a60727",
            "62d5bd029c0a4e9a8993e2120d4ea97f"
          ]
        },
        "id": "qFOG22XEUdYr",
        "outputId": "e429ac15-8211-4254-e8f5-0b2274d2853b"
      },
      "execution_count": 102,
      "outputs": [
        {
          "output_type": "display_data",
          "data": {
            "text/plain": [
              "Making Predictions:   0%|          | 0/313 [00:00<?, ?it/s]"
            ],
            "application/vnd.jupyter.widget-view+json": {
              "version_major": 2,
              "version_minor": 0,
              "model_id": "b17216d8aca84eeab200c0aec3db6268"
            }
          },
          "metadata": {}
        }
      ]
    },
    {
      "cell_type": "markdown",
      "source": [
        "- let's plot confusion **matrix**"
      ],
      "metadata": {
        "id": "D3GW0WF3mAlF"
      }
    },
    {
      "cell_type": "code",
      "source": [
        "\n",
        "from sklearn.metrics import ConfusionMatrixDisplay, confusion_matrix\n",
        "\n",
        "confmat_tensor = confusion_matrix(y_pred_tensor, test_data.targets)"
      ],
      "metadata": {
        "id": "PKVgH8XsNpHV"
      },
      "execution_count": 103,
      "outputs": []
    },
    {
      "cell_type": "markdown",
      "source": [
        "- plot confusion matrix using sklearn and matplotlib"
      ],
      "metadata": {
        "id": "g3H6tU-CY4oe"
      }
    },
    {
      "cell_type": "code",
      "source": [
        "from sklearn import metrics"
      ],
      "metadata": {
        "id": "kVXy41x9PCDT"
      },
      "execution_count": 104,
      "outputs": []
    },
    {
      "cell_type": "code",
      "source": [
        "cm_display = metrics.ConfusionMatrixDisplay(confusion_matrix=confmat_tensor,\n",
        "                                            display_labels=class_names)\n",
        "\n",
        "fig, ax = plt.subplots(figsize=(10,10))\n",
        "cm_display.plot(include_values=True, cmap=\"Blues\",\n",
        "                colorbar=False, values_format='.0f',ax=ax)\n",
        "\n",
        "plt.show();"
      ],
      "metadata": {
        "colab": {
          "base_uri": "https://localhost:8080/",
          "height": 850
        },
        "id": "EwlOKW4KZPXs",
        "outputId": "3218694a-f923-4102-a6ee-7ff1920b2de1"
      },
      "execution_count": 105,
      "outputs": [
        {
          "output_type": "display_data",
          "data": {
            "text/plain": [
              "<Figure size 1000x1000 with 1 Axes>"
            ],
            "image/png": "[encoded data removed]"
          },
          "metadata": {}
        }
      ]
    },
    {
      "cell_type": "code",
      "source": [],
      "metadata": {
        "id": "UxRxs68dauYg"
      },
      "execution_count": 105,
      "outputs": []
    }
  ]
}