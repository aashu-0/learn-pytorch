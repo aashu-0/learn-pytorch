{
  "nbformat": 4,
  "nbformat_minor": 0,
  "metadata": {
    "colab": {
      "provenance": [],
      "authorship_tag": "ABX9TyPjeLmcLJI4GSlUyffJ2cTP",
      "include_colab_link": true
    },
    "kernelspec": {
      "name": "python3",
      "display_name": "Python 3"
    },
    "language_info": {
      "name": "python"
    }
  },
  "cells": [
    {
      "cell_type": "markdown",
      "metadata": {
        "id": "view-in-github",
        "colab_type": "text"
      },
      "source": [
        "<a href=\"https://colab.research.google.com/github/aashu-0/learn-pytorch/blob/main/01pytorch.ipynb\" target=\"_parent\"><img src=\"https://colab.research.google.com/assets/colab-badge.svg\" alt=\"Open In Colab\"/></a>"
      ]
    },
    {
      "cell_type": "code",
      "execution_count": 23,
      "metadata": {
        "id": "j2BfclXyPsxs"
      },
      "outputs": [],
      "source": [
        "import torch\n",
        "from torch import nn\n",
        "import matplotlib.pyplot as plt\n"
      ]
    },
    {
      "cell_type": "code",
      "source": [
        "# data creation\n",
        "# creating known paramas\n",
        "weight = 0.7\n",
        "bias = 0.3\n",
        "\n",
        "#create data\n",
        "X= torch.arange(0,1,0.02)    #features\n",
        "X = X.unsqueeze(dim=1)       #labels\n",
        "y = weight*X +bias\n",
        "\n",
        "len(X), X[:10], y[:10]"
      ],
      "metadata": {
        "colab": {
          "base_uri": "https://localhost:8080/"
        },
        "id": "Jl0-VRRBP__x",
        "outputId": "d141a2fb-af7c-4ea4-d0b0-0889bf8ae204"
      },
      "execution_count": 24,
      "outputs": [
        {
          "output_type": "execute_result",
          "data": {
            "text/plain": [
              "(50,\n",
              " tensor([[0.0000],\n",
              "         [0.0200],\n",
              "         [0.0400],\n",
              "         [0.0600],\n",
              "         [0.0800],\n",
              "         [0.1000],\n",
              "         [0.1200],\n",
              "         [0.1400],\n",
              "         [0.1600],\n",
              "         [0.1800]]),\n",
              " tensor([[0.3000],\n",
              "         [0.3140],\n",
              "         [0.3280],\n",
              "         [0.3420],\n",
              "         [0.3560],\n",
              "         [0.3700],\n",
              "         [0.3840],\n",
              "         [0.3980],\n",
              "         [0.4120],\n",
              "         [0.4260]]))"
            ]
          },
          "metadata": {},
          "execution_count": 24
        }
      ]
    },
    {
      "cell_type": "code",
      "source": [
        "#train/test split\n",
        "train_split = int(0.8 * len(X))\n",
        "X_train, y_train = X[: train_split], y[: train_split]\n",
        "X_test, y_test = X[train_split: ], y[train_split :]\n",
        "\n",
        "len(X_train), len(X_test), len(y_train), len(y_test)"
      ],
      "metadata": {
        "id": "rXgdZJ8YQzd9",
        "colab": {
          "base_uri": "https://localhost:8080/"
        },
        "outputId": "875c9a33-9c4f-4a59-ee05-74e62340b737"
      },
      "execution_count": 25,
      "outputs": [
        {
          "output_type": "execute_result",
          "data": {
            "text/plain": [
              "(40, 10, 40, 10)"
            ]
          },
          "metadata": {},
          "execution_count": 25
        }
      ]
    },
    {
      "cell_type": "code",
      "source": [
        "# visualizing the trainig and test set\n",
        "\n",
        "def plot_predictions(train_data = X_train,\n",
        "                     train_labels = y_train,\n",
        "                     test_data = X_test,\n",
        "                     test_labels = y_test,\n",
        "                     predictions = None\n",
        "                     ):\n",
        "  plt.figure(figsize = (10,7))\n",
        "\n",
        "  #training data in blue\n",
        "  plt.scatter(train_data, train_labels, s=4, c='b', label= 'Training data')\n",
        "\n",
        "  # test data in green\n",
        "  plt.scatter(test_data, test_labels, s=4, c='g', label= 'Training data')\n",
        "\n",
        "  # predictions, if any in red\n",
        "  if predictions is not None:\n",
        "    plt.scatter(test_data, predictions, s=4, c= 'r', label = 'Prediction')\n",
        "\n",
        "  # show thhe legend\n",
        "  plt.legend()\n",
        "\n",
        "plot_predictions()"
      ],
      "metadata": {
        "id": "xpXpipnfuKoS",
        "colab": {
          "base_uri": "https://localhost:8080/",
          "height": 471
        },
        "outputId": "77d0e333-be7f-44de-cad6-b5a20e1aa081"
      },
      "execution_count": 26,
      "outputs": [
        {
          "output_type": "display_data",
          "data": {
            "text/plain": [
              "<Figure size 1000x700 with 1 Axes>"
            ],
            "image/png": "[encoded data removed]"
          },
          "metadata": {}
        }
      ]
    },
    {
      "cell_type": "code",
      "source": [
        "# model creation\n",
        "# linear regression class\n",
        "\n",
        "class LinearRegressionModel(nn.Module):\n",
        "  def __init__(self):\n",
        "    super().__init__()\n",
        "\n",
        "    self.weights = nn.Parameter(torch.randn(1,\n",
        "                                dtype =torch.float),\n",
        "                                requires_grad= True)\n",
        "\n",
        "    self.bias = nn.Parameter(torch.randn(1,\n",
        "                                dtype =torch.float),\n",
        "                                requires_grad= True)\n",
        "\n",
        "    # forward method\n",
        "  def forward(self, x: torch.Tensor) -> torch.Tensor:          # after -> (torch.Tensor) state the type of return variable\n",
        "      return self.weights * x + self.bias\n"
      ],
      "metadata": {
        "id": "jG5H8DKkwF6t"
      },
      "execution_count": 27,
      "outputs": []
    },
    {
      "cell_type": "code",
      "source": [
        "# checking the paramas\n",
        "# set manual seed\n",
        "\n",
        "torch.manual_seed(42)\n",
        "\n",
        "#create an instance\n",
        "model_0 = LinearRegressionModel()\n",
        "\n",
        "# check for nn.Parameter\n",
        "list(model_0.parameters())"
      ],
      "metadata": {
        "colab": {
          "base_uri": "https://localhost:8080/"
        },
        "id": "TOwPQOns28xR",
        "outputId": "00817ed7-5e75-4247-c928-b3cdb5551ef6"
      },
      "execution_count": 28,
      "outputs": [
        {
          "output_type": "execute_result",
          "data": {
            "text/plain": [
              "[Parameter containing:\n",
              " tensor([0.3367], requires_grad=True),\n",
              " Parameter containing:\n",
              " tensor([0.1288], requires_grad=True)]"
            ]
          },
          "metadata": {},
          "execution_count": 28
        }
      ]
    },
    {
      "cell_type": "code",
      "source": [
        "model_0.state_dict()"
      ],
      "metadata": {
        "colab": {
          "base_uri": "https://localhost:8080/"
        },
        "id": "_Jj_UC5p3pOl",
        "outputId": "702708e6-2ebb-4ade-f442-d2a6a24ca9b2"
      },
      "execution_count": 29,
      "outputs": [
        {
          "output_type": "execute_result",
          "data": {
            "text/plain": [
              "OrderedDict([('weights', tensor([0.3367])), ('bias', tensor([0.1288]))])"
            ]
          },
          "metadata": {},
          "execution_count": 29
        }
      ]
    },
    {
      "cell_type": "code",
      "source": [
        "# making prediction with this randomised model\n",
        "# => will give poor predictions, but well..let's see\n",
        "\n",
        "with torch.inference_mode():\n",
        "  y_preds = model_0(X_test)"
      ],
      "metadata": {
        "id": "C1kIAQBH4Rlx"
      },
      "execution_count": 30,
      "outputs": []
    },
    {
      "cell_type": "code",
      "source": [
        "# check the predictions\n",
        "\n",
        "print(f'Number of testing samples: {len(X_test)}')\n",
        "print(f'Number of predictions made: {len(y_preds)}')\n",
        "print(f'predicted values: {y_preds}')"
      ],
      "metadata": {
        "colab": {
          "base_uri": "https://localhost:8080/"
        },
        "id": "Tcba7LG65o5t",
        "outputId": "71f93ade-df0a-4ccf-fbe0-6eaf6a160fd0"
      },
      "execution_count": 31,
      "outputs": [
        {
          "output_type": "stream",
          "name": "stdout",
          "text": [
            "Number of testing samples: 10\n",
            "Number of predictions made: 10\n",
            "predicted values: tensor([[0.3982],\n",
            "        [0.4049],\n",
            "        [0.4116],\n",
            "        [0.4184],\n",
            "        [0.4251],\n",
            "        [0.4318],\n",
            "        [0.4386],\n",
            "        [0.4453],\n",
            "        [0.4520],\n",
            "        [0.4588]])\n"
          ]
        }
      ]
    },
    {
      "cell_type": "code",
      "source": [
        "plot_predictions(predictions = y_preds)"
      ],
      "metadata": {
        "colab": {
          "base_uri": "https://localhost:8080/",
          "height": 471
        },
        "id": "aHEYknlN66Gj",
        "outputId": "315b8fce-5f50-47fb-c7ec-0a2445c62573"
      },
      "execution_count": 32,
      "outputs": [
        {
          "output_type": "display_data",
          "data": {
            "text/plain": [
              "<Figure size 1000x700 with 1 Axes>"
            ],
            "image/png": "[encoded data removed]"
          },
          "metadata": {}
        }
      ]
    },
    {
      "cell_type": "code",
      "source": [
        "# calculating error in predicted and actual value\n",
        "y_test - y_preds"
      ],
      "metadata": {
        "colab": {
          "base_uri": "https://localhost:8080/"
        },
        "id": "q6huL_vS7Fiv",
        "outputId": "7ff8b140-f16b-4246-ec97-ca0651adbcd3"
      },
      "execution_count": 33,
      "outputs": [
        {
          "output_type": "execute_result",
          "data": {
            "text/plain": [
              "tensor([[0.4618],\n",
              "        [0.4691],\n",
              "        [0.4764],\n",
              "        [0.4836],\n",
              "        [0.4909],\n",
              "        [0.4982],\n",
              "        [0.5054],\n",
              "        [0.5127],\n",
              "        [0.5200],\n",
              "        [0.5272]])"
            ]
          },
          "metadata": {},
          "execution_count": 33
        }
      ]
    },
    {
      "cell_type": "code",
      "source": [
        "# bad predictions, high error\n",
        "# as we have taken random paramas\n",
        "# it's nothing but random guessing\n",
        "# now let's make our model learn"
      ],
      "metadata": {
        "id": "afIF8GHj7SRf"
      },
      "execution_count": 34,
      "outputs": []
    },
    {
      "cell_type": "code",
      "source": [
        "# ---Training the model----\n",
        "\n",
        "# loss function: diff b/w y_preds and y_test\n",
        "# optimizer: tells the model how to update its internal paramas(weight and bias)\n",
        "\n",
        "# we wil use\n",
        "# mae: mean absolute error loss function\n",
        "# sgd: stochastic gradient descent optimizer\n"
      ],
      "metadata": {
        "id": "SdM-mBsg7e29"
      },
      "execution_count": 35,
      "outputs": []
    },
    {
      "cell_type": "code",
      "source": [
        "# create the loss function\n",
        "loss_fn = nn.L1Loss()    # MAE loss is same as L1Loss\n",
        "\n",
        "# create the optimizer\n",
        "optimizer = torch.optim.SGD(params = model_0.parameters(), lr = 0.01)  # lr=> learning rate\n",
        "\n"
      ],
      "metadata": {
        "id": "chAMB79a8ktk"
      },
      "execution_count": 36,
      "outputs": []
    },
    {
      "cell_type": "code",
      "source": [
        "# training our model for 10 epochs and evaluate it every 10 epochs\n",
        "\n",
        "torch.manual_seed(42)\n",
        "\n",
        "epochs = 100\n",
        "\n",
        "train_loss_values = []\n",
        "test_loss_values = []\n",
        "epoch_count = []\n",
        "\n",
        "for epoch in range(epochs):\n",
        "\n",
        "  # >>TRAINING<<\n",
        "  model_0.train()\n",
        "\n",
        "  #forward pass\n",
        "  y_pred = model_0(X_train)\n",
        "\n",
        "  # calculating the loss\n",
        "  loss = loss_fn(y_pred, y_train)\n",
        "\n",
        "  # zero gradients\n",
        "  optimizer.zero_grad()\n",
        "\n",
        "  # loss backwards, backpropagation\n",
        "  loss.backward()\n",
        "\n",
        "  # step the optimizer\n",
        "  optimizer.step()\n",
        "\n",
        "  # >>TESTING<<\n",
        "\n",
        "  # put model in evaluation mode\n",
        "  model_0.eval()\n",
        "\n",
        "  with torch.inference_mode():\n",
        "\n",
        "    # forward pass\n",
        "    test_pred = model_0(X_test)\n",
        "\n",
        "    # calculate loss\n",
        "    test_loss = loss_fn(test_pred, y_test.type(torch.float))\n",
        "\n",
        "    if epoch % 10 ==0:\n",
        "      epoch_count.append(epoch)\n",
        "      train_loss_values.append(loss.detach().numpy())\n",
        "      test_loss_values.append(test_loss.detach().numpy())\n",
        "\n",
        "      print(f'Epoch: {epoch}, MAE train loss: {loss}, MAE test loss: {test_loss}')"
      ],
      "metadata": {
        "colab": {
          "base_uri": "https://localhost:8080/"
        },
        "id": "F6mwiQ9O89_8",
        "outputId": "0e98153c-cb40-47da-a544-55feed8b0c75"
      },
      "execution_count": 37,
      "outputs": [
        {
          "output_type": "stream",
          "name": "stdout",
          "text": [
            "Epoch: 0, MAE train loss: 0.31288138031959534, MAE test loss: 0.48106518387794495\n",
            "Epoch: 10, MAE train loss: 0.1976713240146637, MAE test loss: 0.3463551998138428\n",
            "Epoch: 20, MAE train loss: 0.08908725529909134, MAE test loss: 0.21729660034179688\n",
            "Epoch: 30, MAE train loss: 0.053148526698350906, MAE test loss: 0.14464017748832703\n",
            "Epoch: 40, MAE train loss: 0.04543796554207802, MAE test loss: 0.11360953003168106\n",
            "Epoch: 50, MAE train loss: 0.04167863354086876, MAE test loss: 0.09919948130846024\n",
            "Epoch: 60, MAE train loss: 0.03818932920694351, MAE test loss: 0.08886633068323135\n",
            "Epoch: 70, MAE train loss: 0.03476089984178543, MAE test loss: 0.0805937647819519\n",
            "Epoch: 80, MAE train loss: 0.03132382780313492, MAE test loss: 0.07232122868299484\n",
            "Epoch: 90, MAE train loss: 0.02788739837706089, MAE test loss: 0.06473556160926819\n"
          ]
        }
      ]
    },
    {
      "cell_type": "code",
      "source": [
        "# plotting the loss curves\n",
        "\n",
        "plt.plot(epoch_count, train_loss_values, label = \"Train loss\")\n",
        "plt.plot(epoch_count, test_loss_values, label = \"Test loss\")\n",
        "plt.title(\"Training and Test Loss curves\")\n",
        "plt.ylabel('Loss')\n",
        "plt.xlabel('Epochs')\n",
        "plt.legend()"
      ],
      "metadata": {
        "id": "SsVkNsufAXRh",
        "colab": {
          "base_uri": "https://localhost:8080/",
          "height": 489
        },
        "outputId": "c804168f-1c86-4158-c42e-892f9d211c79"
      },
      "execution_count": 38,
      "outputs": [
        {
          "output_type": "execute_result",
          "data": {
            "text/plain": [
              "<matplotlib.legend.Legend at 0x7c5dfc6c0d30>"
            ]
          },
          "metadata": {},
          "execution_count": 38
        },
        {
          "output_type": "display_data",
          "data": {
            "text/plain": [
              "<Figure size 640x480 with 1 Axes>"
            ],
            "image/png": "[encoded data removed]"
          },
          "metadata": {}
        }
      ]
    },
    {
      "cell_type": "code",
      "source": [
        "# we can see the loss is going down\n",
        "# why?? all thanks to loss function and optimizer\n",
        "\n",
        "# finding our model's learned parameters\n",
        "\n",
        "print(f'The model learned parameters: \\n{model_0.state_dict()}')\n",
        "print(f'\\nThe Original parameters: {weight}, {bias}')"
      ],
      "metadata": {
        "colab": {
          "base_uri": "https://localhost:8080/"
        },
        "id": "lZqnaMFl11mI",
        "outputId": "03ba4c77-be4b-475e-90e1-16b36e9dd281"
      },
      "execution_count": 39,
      "outputs": [
        {
          "output_type": "stream",
          "name": "stdout",
          "text": [
            "The model learned parameters: \n",
            "OrderedDict([('weights', tensor([0.5784])), ('bias', tensor([0.3513]))])\n",
            "\n",
            "The Original parameters: 0.7, 0.3\n"
          ]
        }
      ]
    },
    {
      "cell_type": "code",
      "source": [
        "# let's try increasing the number of epochs and see the loss curves and paramas\n",
        "\n",
        "# torch.manual_seed(42)\n",
        "\n",
        "# epochs = 200\n",
        "\n",
        "# train_loss_values = []\n",
        "# test_loss_values = []\n",
        "# epoch_count = []\n",
        "\n",
        "# for epoch in range(epochs):\n",
        "\n",
        "#   # >>TRAINING<<\n",
        "#   model_0.train()\n",
        "\n",
        "#   #forward pass\n",
        "#   y_pred = model_0(X_train)\n",
        "\n",
        "#   # calculating the loss\n",
        "#   loss = loss_fn(y_pred, y_train)\n",
        "\n",
        "#   # zero gradients\n",
        "#   optimizer.zero_grad()\n",
        "\n",
        "#   # loss backwards, backpropagation\n",
        "#   loss.backward()\n",
        "\n",
        "#   # step the optimizer\n",
        "#   optimizer.step()\n",
        "\n",
        "#   # >>TESTING<<\n",
        "\n",
        "#   # put model in evaluation mode\n",
        "#   model_0.eval()\n",
        "\n",
        "#   with torch.inference_mode():\n",
        "\n",
        "#     # forward pass\n",
        "#     test_pred = model_0(X_test)\n",
        "\n",
        "#     # calculate loss\n",
        "#     test_loss = loss_fn(test_pred, y_test.type(torch.float))\n",
        "\n",
        "#     if epoch % 10 ==0:\n",
        "#       epoch_count.append(epoch)\n",
        "#       train_loss_values.append(loss.detach().numpy())\n",
        "#       test_loss_values.append(test_loss.detach().numpy())\n",
        "\n",
        "#       print(f'Epoch: {epoch}, MAE train loss: {loss}, MAE test loss: {test_loss}')\n"
      ],
      "metadata": {
        "id": "QoLpVIIq2TX4"
      },
      "execution_count": 40,
      "outputs": []
    },
    {
      "cell_type": "code",
      "source": [
        "# plotting the loss curves\n",
        "\n",
        "# plt.plot(epoch_count, train_loss_values, label = \"Train loss\")\n",
        "# plt.plot(epoch_count, test_loss_values, label = \"Test loss\")\n",
        "# plt.title(\"Training and Test Loss curves\")\n",
        "# plt.ylabel('Loss')\n",
        "# plt.xlabel('Epochs')\n",
        "# plt.legend()"
      ],
      "metadata": {
        "id": "Q7QngdwZ3Lx5"
      },
      "execution_count": 41,
      "outputs": []
    },
    {
      "cell_type": "code",
      "source": [
        "# # finding our model's learned parameters\n",
        "\n",
        "# print(f'The model learned parameters: \\n{model_0.state_dict()}')\n",
        "# print(f'\\nThe Original parameters: {weight}, {bias}')"
      ],
      "metadata": {
        "id": "y6dZG8x03U1e"
      },
      "execution_count": 42,
      "outputs": []
    },
    {
      "cell_type": "code",
      "source": [
        "# >>>INFERENCE>>>\n",
        "# making predictions with a trained Pytorch model\n",
        "\n",
        "# set model in evaluation mode => it turns off some layers like dropout layers for faster computation\n",
        "model_0.eval()\n",
        "\n",
        "# setup the inference mode context manager\n",
        "with torch.inference_mode():\n",
        "  y_preds = model_0(X_test)\n",
        "\n",
        "y_preds"
      ],
      "metadata": {
        "colab": {
          "base_uri": "https://localhost:8080/"
        },
        "id": "Q3DHDoab3edK",
        "outputId": "db1e2ae3-0a6d-429b-f210-555b175a9a91"
      },
      "execution_count": 43,
      "outputs": [
        {
          "output_type": "execute_result",
          "data": {
            "text/plain": [
              "tensor([[0.8141],\n",
              "        [0.8256],\n",
              "        [0.8372],\n",
              "        [0.8488],\n",
              "        [0.8603],\n",
              "        [0.8719],\n",
              "        [0.8835],\n",
              "        [0.8950],\n",
              "        [0.9066],\n",
              "        [0.9182]])"
            ]
          },
          "metadata": {},
          "execution_count": 43
        }
      ]
    },
    {
      "cell_type": "code",
      "source": [
        "# plotting predictions on graph\n",
        "plot_predictions(predictions= y_preds)"
      ],
      "metadata": {
        "colab": {
          "base_uri": "https://localhost:8080/",
          "height": 471
        },
        "id": "UrJnwAQT6GBz",
        "outputId": "5ebc184e-6851-4c23-b4d1-60b444eea40f"
      },
      "execution_count": 44,
      "outputs": [
        {
          "output_type": "display_data",
          "data": {
            "text/plain": [
              "<Figure size 1000x700 with 1 Axes>"
            ],
            "image/png": "[encoded data removed]"
          },
          "metadata": {}
        }
      ]
    },
    {
      "cell_type": "code",
      "source": [
        "# >>>MODEL SAVING AND RELOADING>>>\n",
        "# referred pytorch docs\n",
        "\n",
        "# recommended way of saving a pytorch's model is by saving the model's state_dict()\n",
        "\n",
        "from pathlib import Path\n",
        "\n",
        "# create \"models\" directory\n",
        "model_path = Path(\"models\")\n",
        "model_path.mkdir(parents = True, exist_ok = True)\n",
        "\n",
        "# create a model save path\n",
        "model_name = '01_pytorch_model_0.pth'\n",
        "model_save_path = model_path/model_name\n",
        "\n",
        "# save the model state_dict\n",
        "print(f'Saving model to: {model_save_path}')\n",
        "\n",
        "torch.save(obj=model_0.state_dict(), f =model_save_path)"
      ],
      "metadata": {
        "colab": {
          "base_uri": "https://localhost:8080/"
        },
        "id": "VyY0chiu6O0t",
        "outputId": "6cb62f37-5276-456a-c267-1881d32d9868"
      },
      "execution_count": 49,
      "outputs": [
        {
          "output_type": "stream",
          "name": "stdout",
          "text": [
            "Saving model to: models/01_pytorch_model_0.pth\n"
          ]
        }
      ]
    },
    {
      "cell_type": "code",
      "source": [
        "# checking the saved file path\n",
        "!ls -l models/01_pytorch_model_0.pth"
      ],
      "metadata": {
        "colab": {
          "base_uri": "https://localhost:8080/"
        },
        "id": "fXmMH7JP_l4q",
        "outputId": "93ab50fd-b562-457a-b4f0-5a1785d8c091"
      },
      "execution_count": 50,
      "outputs": [
        {
          "output_type": "stream",
          "name": "stdout",
          "text": [
            "-rw-r--r-- 1 root root 1562 Oct 17 14:40 models/01_pytorch_model_0.pth\n"
          ]
        }
      ]
    },
    {
      "cell_type": "code",
      "source": [
        "# loading a saved pytorch's model's state_dict() to a new instance of our model\n",
        "# before the LinearRegressionModel() instance was model_0\n",
        "\n",
        "# instantiate a new instance of our model\n",
        "\n",
        "loaded_model_0 = LinearRegressionModel()\n",
        "\n",
        "# load the state_dict of our saved model(i.e model_0)\n",
        "# this will update the new instance(i.e loaded_model_0) with the trained weights\n",
        "\n",
        "loaded_model_0.load_state_dict(torch.load(f = model_save_path))"
      ],
      "metadata": {
        "colab": {
          "base_uri": "https://localhost:8080/"
        },
        "id": "NJ_1bRdF_xFH",
        "outputId": "51bf812d-2b70-4159-cf6b-ec9dd8c19dfc"
      },
      "execution_count": 51,
      "outputs": [
        {
          "output_type": "stream",
          "name": "stderr",
          "text": [
            "<ipython-input-51-94bee50e71d7>:11: FutureWarning: You are using `torch.load` with `weights_only=False` (the current default value), which uses the default pickle module implicitly. It is possible to construct malicious pickle data which will execute arbitrary code during unpickling (See https://github.com/pytorch/pytorch/blob/main/SECURITY.md#untrusted-models for more details). In a future release, the default value for `weights_only` will be flipped to `True`. This limits the functions that could be executed during unpickling. Arbitrary objects will no longer be allowed to be loaded via this mode unless they are explicitly allowlisted by the user via `torch.serialization.add_safe_globals`. We recommend you start setting `weights_only=True` for any use case where you don't have full control of the loaded file. Please open an issue on GitHub for any issues related to this experimental feature.\n",
            "  loaded_model_0.load_state_dict(torch.load(f = model_save_path))\n"
          ]
        },
        {
          "output_type": "execute_result",
          "data": {
            "text/plain": [
              "<All keys matched successfully>"
            ]
          },
          "metadata": {},
          "execution_count": 51
        }
      ]
    },
    {
      "cell_type": "code",
      "source": [
        "# making predictions using loaded_model_0\n",
        "\n",
        "# put into eval mode\n",
        "loaded_model_0.eval()\n",
        "\n",
        "# use the inference mode context manager to make predictions\n",
        "with torch.inference_mode():\n",
        "  loaded_model_preds = loaded_model_0(X_test)"
      ],
      "metadata": {
        "id": "RAmo1XglCzSX"
      },
      "execution_count": 52,
      "outputs": []
    },
    {
      "cell_type": "code",
      "source": [
        "# comparing previous preds with loaded model preds\n",
        "\n",
        "y_preds == loaded_model_preds"
      ],
      "metadata": {
        "colab": {
          "base_uri": "https://localhost:8080/"
        },
        "id": "r89yDRaMDpOx",
        "outputId": "c7e9fde2-522e-4fdc-ed2c-b74c2464b6bf"
      },
      "execution_count": 53,
      "outputs": [
        {
          "output_type": "execute_result",
          "data": {
            "text/plain": [
              "tensor([[True],\n",
              "        [True],\n",
              "        [True],\n",
              "        [True],\n",
              "        [True],\n",
              "        [True],\n",
              "        [True],\n",
              "        [True],\n",
              "        [True],\n",
              "        [True]])"
            ]
          },
          "metadata": {},
          "execution_count": 53
        }
      ]
    },
    {
      "cell_type": "code",
      "source": [
        "# yay!!! --- :)"
      ],
      "metadata": {
        "id": "3o5ZlGhVDzWL"
      },
      "execution_count": null,
      "outputs": []
    }
  ]
}