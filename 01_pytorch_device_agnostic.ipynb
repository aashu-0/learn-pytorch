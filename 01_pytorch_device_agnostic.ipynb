{
  "nbformat": 4,
  "nbformat_minor": 0,
  "metadata": {
    "colab": {
      "provenance": [],
      "gpuType": "T4",
      "authorship_tag": "ABX9TyNz+Go7roTdYD84Qwti7MOd",
      "include_colab_link": true
    },
    "kernelspec": {
      "name": "python3",
      "display_name": "Python 3"
    },
    "language_info": {
      "name": "python"
    },
    "accelerator": "GPU"
  },
  "cells": [
    {
      "cell_type": "markdown",
      "metadata": {
        "id": "view-in-github",
        "colab_type": "text"
      },
      "source": [
        "<a href=\"https://colab.research.google.com/github/aashu-0/learn-pytorch/blob/main/01_pytorch_device_agnostic.ipynb\" target=\"_parent\"><img src=\"https://colab.research.google.com/assets/colab-badge.svg\" alt=\"Open In Colab\"/></a>"
      ]
    },
    {
      "cell_type": "code",
      "execution_count": 1,
      "metadata": {
        "id": "SzRQE_DLFFXH"
      },
      "outputs": [],
      "source": [
        "# replicating the same that in 01pytorch.ipymb but this time writing device agnostic code\n",
        "# device agnostic code means --> if there's gpu avaliable then use it, if not then by default cpu\n"
      ]
    },
    {
      "cell_type": "code",
      "source": [
        "import torch\n",
        "from torch import nn\n",
        "import matplotlib.pyplot as plt\n",
        "\n",
        "torch.__version__"
      ],
      "metadata": {
        "colab": {
          "base_uri": "https://localhost:8080/",
          "height": 36
        },
        "id": "j3n54DKOF0Vc",
        "outputId": "ec3d7016-2b1c-4684-85f2-e537c9460ed6"
      },
      "execution_count": 2,
      "outputs": [
        {
          "output_type": "execute_result",
          "data": {
            "text/plain": [
              "'2.4.1+cu121'"
            ],
            "application/vnd.google.colaboratory.intrinsic+json": {
              "type": "string"
            }
          },
          "metadata": {},
          "execution_count": 2
        }
      ]
    },
    {
      "cell_type": "code",
      "source": [
        "# setting the device agnostic code\n",
        "\n",
        "device = 'cuda' if torch.cuda.is_available() else 'cpu'\n",
        "\n",
        "print(f'Using device: {device}')"
      ],
      "metadata": {
        "colab": {
          "base_uri": "https://localhost:8080/"
        },
        "id": "f6Inc_-CGAqp",
        "outputId": "420e06ba-6a8d-4362-8494-93e5be0ecb6a"
      },
      "execution_count": 3,
      "outputs": [
        {
          "output_type": "stream",
          "name": "stdout",
          "text": [
            "Using device: cuda\n"
          ]
        }
      ]
    },
    {
      "cell_type": "code",
      "source": [
        "# data creation\n",
        "# creating known paramas\n",
        "weight = 0.7\n",
        "bias = 0.3\n",
        "\n",
        "#create data\n",
        "X= torch.arange(0,1,0.02)    #features\n",
        "X = X.unsqueeze(dim=1)       #labels\n",
        "y = weight*X +bias\n",
        "\n",
        "len(X), X[:10], y[:10]"
      ],
      "metadata": {
        "colab": {
          "base_uri": "https://localhost:8080/"
        },
        "id": "FahdApNiGRdH",
        "outputId": "1d59b1af-57b8-41d2-a0af-30a007580667"
      },
      "execution_count": 4,
      "outputs": [
        {
          "output_type": "execute_result",
          "data": {
            "text/plain": [
              "(50,\n",
              " tensor([[0.0000],\n",
              "         [0.0200],\n",
              "         [0.0400],\n",
              "         [0.0600],\n",
              "         [0.0800],\n",
              "         [0.1000],\n",
              "         [0.1200],\n",
              "         [0.1400],\n",
              "         [0.1600],\n",
              "         [0.1800]]),\n",
              " tensor([[0.3000],\n",
              "         [0.3140],\n",
              "         [0.3280],\n",
              "         [0.3420],\n",
              "         [0.3560],\n",
              "         [0.3700],\n",
              "         [0.3840],\n",
              "         [0.3980],\n",
              "         [0.4120],\n",
              "         [0.4260]]))"
            ]
          },
          "metadata": {},
          "execution_count": 4
        }
      ]
    },
    {
      "cell_type": "code",
      "source": [
        "#train/test split\n",
        "train_split = int(0.8 * len(X))\n",
        "X_train, y_train = X[: train_split], y[: train_split]\n",
        "X_test, y_test = X[train_split: ], y[train_split :]\n",
        "\n",
        "len(X_train), len(X_test), len(y_train), len(y_test)"
      ],
      "metadata": {
        "colab": {
          "base_uri": "https://localhost:8080/"
        },
        "id": "S1dpKXPAGkAn",
        "outputId": "2cc74c6e-a8e9-4fdb-c544-7b7010bfa6a3"
      },
      "execution_count": 5,
      "outputs": [
        {
          "output_type": "execute_result",
          "data": {
            "text/plain": [
              "(40, 10, 40, 10)"
            ]
          },
          "metadata": {},
          "execution_count": 5
        }
      ]
    },
    {
      "cell_type": "code",
      "source": [
        "# visualizing the trainig and test set\n",
        "\n",
        "def plot_predictions(train_data = X_train,\n",
        "                     train_labels = y_train,\n",
        "                     test_data = X_test,\n",
        "                     test_labels = y_test,\n",
        "                     predictions = None\n",
        "                     ):\n",
        "  plt.figure(figsize = (10,7))\n",
        "\n",
        "  #training data in blue\n",
        "  plt.scatter(train_data, train_labels, s=4, c='b', label= 'Training data')\n",
        "\n",
        "  # test data in green\n",
        "  plt.scatter(test_data, test_labels, s=4, c='g', label= 'Training data')\n",
        "\n",
        "  # predictions, if any in red\n",
        "  if predictions is not None:\n",
        "    plt.scatter(test_data, predictions, s=4, c= 'r', label = 'Prediction')\n",
        "\n",
        "  # show thhe legend\n",
        "  plt.legend()\n",
        "\n",
        "plot_predictions()"
      ],
      "metadata": {
        "colab": {
          "base_uri": "https://localhost:8080/",
          "height": 599
        },
        "id": "htR_G0fXG1Ht",
        "outputId": "9ee1a9b7-6b36-4008-ab5c-87497e2c2ffe"
      },
      "execution_count": 6,
      "outputs": [
        {
          "output_type": "display_data",
          "data": {
            "text/plain": [
              "<Figure size 1000x700 with 1 Axes>"
            ],
            "image/png": "[encoded data removed]"
          },
          "metadata": {}
        }
      ]
    },
    {
      "cell_type": "code",
      "source": [
        "# this time we're creating the linear Regression model using nn.Linear rather than nn.Parameter\n",
        "\n",
        "class LinearRegressionModelV2(nn.Module):\n",
        "  def __init__(self):\n",
        "    super().__init__()\n",
        "    # using nn.Linear for creating model paramas\n",
        "    self.linear_layer = nn.Linear(in_features=1, out_features=1)\n",
        "\n",
        "    # forward method\n",
        "  def forward(self, x: torch.Tensor) -> torch.Tensor:          # after -> (torch.Tensor) state the type of return variable\n",
        "      return self.linear_layer(x)\n",
        "\n",
        "torch.manual_seed(42)\n",
        "model_1 = LinearRegressionModelV2()\n",
        "model_1, model_1.state_dict()"
      ],
      "metadata": {
        "colab": {
          "base_uri": "https://localhost:8080/"
        },
        "id": "4YBtIPXaG423",
        "outputId": "7220522a-6ec8-48e9-9ceb-e3c16bbd3b5c"
      },
      "execution_count": 8,
      "outputs": [
        {
          "output_type": "execute_result",
          "data": {
            "text/plain": [
              "(LinearRegressionModelV2(\n",
              "   (linear_layer): Linear(in_features=1, out_features=1, bias=True)\n",
              " ),\n",
              " OrderedDict([('linear_layer.weight', tensor([[0.7645]])),\n",
              "              ('linear_layer.bias', tensor([0.8300]))]))"
            ]
          },
          "metadata": {},
          "execution_count": 8
        }
      ]
    },
    {
      "cell_type": "code",
      "source": [
        "# check model device\n",
        "\n",
        "next(model_1.parameters()).device   # next() is used to to access .device() on an individual parameter"
      ],
      "metadata": {
        "colab": {
          "base_uri": "https://localhost:8080/"
        },
        "id": "YMPpeGt1H65W",
        "outputId": "0270d7be-692e-4360-cb3f-c631422fe285"
      },
      "execution_count": 12,
      "outputs": [
        {
          "output_type": "execute_result",
          "data": {
            "text/plain": [
              "device(type='cpu')"
            ]
          },
          "metadata": {},
          "execution_count": 12
        }
      ]
    },
    {
      "cell_type": "code",
      "source": [
        "# let's change it to gpu\n",
        "\n",
        "model_1.to(device)\n",
        "next(model_1.parameters()).device"
      ],
      "metadata": {
        "colab": {
          "base_uri": "https://localhost:8080/"
        },
        "id": "PgwFsQIEIOoy",
        "outputId": "b2dc4c72-4168-4528-9a6c-6770f5d06d37"
      },
      "execution_count": 13,
      "outputs": [
        {
          "output_type": "execute_result",
          "data": {
            "text/plain": [
              "device(type='cuda', index=0)"
            ]
          },
          "metadata": {},
          "execution_count": 13
        }
      ]
    },
    {
      "cell_type": "code",
      "source": [
        "# loss function\n",
        "loss_fn = nn.L1Loss()\n",
        "\n",
        "# optimizer\n",
        "optimizer = torch.optim.SGD(params = model_1.parameters(), lr = 0.01)\n"
      ],
      "metadata": {
        "id": "_WByCl1UJ9Xw"
      },
      "execution_count": 14,
      "outputs": []
    },
    {
      "cell_type": "code",
      "source": [
        "# training the model\n",
        "\n",
        "torch.manual_seed(42)\n",
        "\n",
        "epochs = 1000\n",
        "\n",
        "# put data on the available device\n",
        "X_train = X_train.to(device)\n",
        "X_test = X_test.to(device)\n",
        "y_train = y_train.to(device)\n",
        "y_test = y_test.to(device)\n",
        "\n",
        "\n",
        "for epoch in range(epochs):\n",
        "\n",
        "  # >>TRAINING<<\n",
        "  model_1.train()\n",
        "\n",
        "  #forward pass\n",
        "  y_pred = model_1(X_train)\n",
        "\n",
        "  # calculating the loss\n",
        "  loss = loss_fn(y_pred, y_train)\n",
        "\n",
        "  # zero gradients\n",
        "  optimizer.zero_grad()\n",
        "\n",
        "  # loss backwards, backpropagation\n",
        "  loss.backward()\n",
        "\n",
        "  # step the optimizer\n",
        "  optimizer.step()\n",
        "\n",
        "  # >>TESTING<<\n",
        "\n",
        "  # put model in evaluation mode\n",
        "  model_1.eval()\n",
        "\n",
        "  with torch.inference_mode():\n",
        "\n",
        "    # forward pass\n",
        "    test_pred = model_1(X_test)\n",
        "\n",
        "    # calculate loss\n",
        "    test_loss = loss_fn(test_pred, y_test.type(torch.float))\n",
        "\n",
        "    if epoch % 100 ==0:\n",
        "      print(f'Epoch: {epoch}, train loss: {loss}, test loss: {test_loss}')"
      ],
      "metadata": {
        "colab": {
          "base_uri": "https://localhost:8080/"
        },
        "id": "nuYmHr8AKZrV",
        "outputId": "30d0a80d-bec2-4110-c548-d4414c71d11c"
      },
      "execution_count": 15,
      "outputs": [
        {
          "output_type": "stream",
          "name": "stdout",
          "text": [
            "Epoch: 0, train loss: 0.5551779866218567, test loss: 0.5739762187004089\n",
            "Epoch: 100, train loss: 0.006215683650225401, test loss: 0.014086711220443249\n",
            "Epoch: 200, train loss: 0.0012645035749301314, test loss: 0.013801801018416882\n",
            "Epoch: 300, train loss: 0.0012645035749301314, test loss: 0.013801801018416882\n",
            "Epoch: 400, train loss: 0.0012645035749301314, test loss: 0.013801801018416882\n",
            "Epoch: 500, train loss: 0.0012645035749301314, test loss: 0.013801801018416882\n",
            "Epoch: 600, train loss: 0.0012645035749301314, test loss: 0.013801801018416882\n",
            "Epoch: 700, train loss: 0.0012645035749301314, test loss: 0.013801801018416882\n",
            "Epoch: 800, train loss: 0.0012645035749301314, test loss: 0.013801801018416882\n",
            "Epoch: 900, train loss: 0.0012645035749301314, test loss: 0.013801801018416882\n"
          ]
        }
      ]
    },
    {
      "cell_type": "code",
      "source": [
        "# finding our model's learned parameters\n",
        "\n",
        "print(f'The model learned parameters: \\n{model_1.state_dict()}')\n",
        "print(f'\\nThe Original parameters: {weight}, {bias}')"
      ],
      "metadata": {
        "colab": {
          "base_uri": "https://localhost:8080/"
        },
        "id": "mSOlVloPLX7C",
        "outputId": "4e541f22-f51a-4fde-cbf4-54d62f107035"
      },
      "execution_count": 16,
      "outputs": [
        {
          "output_type": "stream",
          "name": "stdout",
          "text": [
            "The model learned parameters: \n",
            "OrderedDict([('linear_layer.weight', tensor([[0.6968]], device='cuda:0')), ('linear_layer.bias', tensor([0.3025], device='cuda:0'))])\n",
            "\n",
            "The Original parameters: 0.7, 0.3\n"
          ]
        }
      ]
    },
    {
      "cell_type": "code",
      "source": [
        "# we can see paramas are pretty close to the actual value\n",
        "\n",
        "# let's make predictions\n",
        "\n",
        "# turn model into evaluation mode\n",
        "model_1.eval()\n",
        "\n",
        "# predictions on test data\n",
        "with torch.inference_mode():\n",
        "  y_preds = model_1(X_test)\n",
        "\n",
        "y_preds"
      ],
      "metadata": {
        "colab": {
          "base_uri": "https://localhost:8080/"
        },
        "id": "ZCNe4P2lSHja",
        "outputId": "dbd75e43-eaa5-46c2-f6b9-94b10fbab519"
      },
      "execution_count": 17,
      "outputs": [
        {
          "output_type": "execute_result",
          "data": {
            "text/plain": [
              "tensor([[0.8600],\n",
              "        [0.8739],\n",
              "        [0.8878],\n",
              "        [0.9018],\n",
              "        [0.9157],\n",
              "        [0.9296],\n",
              "        [0.9436],\n",
              "        [0.9575],\n",
              "        [0.9714],\n",
              "        [0.9854]], device='cuda:0')"
            ]
          },
          "metadata": {},
          "execution_count": 17
        }
      ]
    },
    {
      "cell_type": "code",
      "source": [
        "# plot_predictions(predictions = y_preds)    --> won't work since our data on gpu..only works on cpu\n",
        "\n",
        "# put data on the cpu\n",
        "plot_predictions(predictions = y_preds.cpu())"
      ],
      "metadata": {
        "colab": {
          "base_uri": "https://localhost:8080/",
          "height": 599
        },
        "id": "7lSj3ZptTqRt",
        "outputId": "a1cbe048-e820-4ba2-a0aa-025b07b48559"
      },
      "execution_count": 20,
      "outputs": [
        {
          "output_type": "display_data",
          "data": {
            "text/plain": [
              "<Figure size 1000x700 with 1 Axes>"
            ],
            "image/png": "[encoded data removed]"
          },
          "metadata": {}
        }
      ]
    },
    {
      "cell_type": "code",
      "source": [
        "# yay!! --> red dots almost prefectly fits with the green dots\n",
        "# increasing number of epochs helps..."
      ],
      "metadata": {
        "id": "JVtJgnvAUh3S"
      },
      "execution_count": 21,
      "outputs": []
    },
    {
      "cell_type": "code",
      "source": [
        "from re import M\n",
        "# ---SAVING OUT TRAINED MODEL---\n",
        "\n",
        "from pathlib import Path\n",
        "# create model directory\n",
        "model_path = Path('models')\n",
        "model_path.mkdir(parents = True, exist_ok = True)\n",
        "\n",
        "# create model save path\n",
        "model_name = '01_pytorch_model_1.pth'\n",
        "model_save_path = model_path/model_name\n",
        "\n",
        "# save the model state_dict\n",
        "print(f'Saving model to {model_save_path}')\n",
        "torch.save(obj = model_1.state_dict(),    # saving the state_dict() only saves the model learned paramas\n",
        "           f = model_save_path)          # not required to save model completely as it may result in inconsistency"
      ],
      "metadata": {
        "colab": {
          "base_uri": "https://localhost:8080/"
        },
        "id": "9PfmaVMkVL2q",
        "outputId": "b3433d64-00e9-42c4-8a82-7d74c23c8671"
      },
      "execution_count": 23,
      "outputs": [
        {
          "output_type": "stream",
          "name": "stdout",
          "text": [
            "Saving model to models/01_pytorch_model_1.pth\n"
          ]
        }
      ]
    },
    {
      "cell_type": "code",
      "source": [
        "# ---LOADING THE SAVED MODEL---\n",
        "# loading the model into a newly created instance\n",
        "\n",
        "# instantiate a fresh instance\n",
        "loaded_model_1 = LinearRegressionModelV2()\n",
        "\n",
        "# load the model state_dict\n",
        "loaded_model_1.load_state_dict(torch.load(model_save_path))\n",
        "\n",
        "# put model to target device\n",
        "loaded_model_1.to(device)\n",
        "\n",
        "print(f'Loaded model: \\n{loaded_model_1}')\n",
        "print(f'Model on device: \\n{next(loaded_model_1.parameters()).device}')"
      ],
      "metadata": {
        "colab": {
          "base_uri": "https://localhost:8080/"
        },
        "id": "kSx26Ja5Wb45",
        "outputId": "3018710d-9426-498b-dc2e-fd74bb73de59"
      },
      "execution_count": 24,
      "outputs": [
        {
          "output_type": "stream",
          "name": "stdout",
          "text": [
            "Loaded model: \n",
            "LinearRegressionModelV2(\n",
            "  (linear_layer): Linear(in_features=1, out_features=1, bias=True)\n",
            ")\n",
            "Model on device: \n",
            "cuda:0\n"
          ]
        },
        {
          "output_type": "stream",
          "name": "stderr",
          "text": [
            "<ipython-input-24-e1120165a54f>:8: FutureWarning: You are using `torch.load` with `weights_only=False` (the current default value), which uses the default pickle module implicitly. It is possible to construct malicious pickle data which will execute arbitrary code during unpickling (See https://github.com/pytorch/pytorch/blob/main/SECURITY.md#untrusted-models for more details). In a future release, the default value for `weights_only` will be flipped to `True`. This limits the functions that could be executed during unpickling. Arbitrary objects will no longer be allowed to be loaded via this mode unless they are explicitly allowlisted by the user via `torch.serialization.add_safe_globals`. We recommend you start setting `weights_only=True` for any use case where you don't have full control of the loaded file. Please open an issue on GitHub for any issues related to this experimental feature.\n",
            "  loaded_model_1.load_state_dict(torch.load(model_save_path))\n"
          ]
        }
      ]
    },
    {
      "cell_type": "code",
      "source": [
        "# evaluate the model\n",
        "loaded_model_1.eval()\n",
        "with torch.inference_mode():\n",
        "  loaded_model_1_preds = loaded_model_1(X_test)\n",
        "\n",
        "y_preds == loaded_model_1_preds"
      ],
      "metadata": {
        "colab": {
          "base_uri": "https://localhost:8080/"
        },
        "id": "iU2uSuijXfwX",
        "outputId": "4ad2cf1b-cf19-4bac-eae7-3cd9feef3f8e"
      },
      "execution_count": 25,
      "outputs": [
        {
          "output_type": "execute_result",
          "data": {
            "text/plain": [
              "tensor([[True],\n",
              "        [True],\n",
              "        [True],\n",
              "        [True],\n",
              "        [True],\n",
              "        [True],\n",
              "        [True],\n",
              "        [True],\n",
              "        [True],\n",
              "        [True]], device='cuda:0')"
            ]
          },
          "metadata": {},
          "execution_count": 25
        }
      ]
    },
    {
      "cell_type": "code",
      "source": [
        "# yup!! it workss...."
      ],
      "metadata": {
        "id": "H1ne874KX3Xr"
      },
      "execution_count": 26,
      "outputs": []
    },
    {
      "cell_type": "code",
      "source": [],
      "metadata": {
        "id": "vkUaMYEyYHDu"
      },
      "execution_count": null,
      "outputs": []
    }
  ]
}